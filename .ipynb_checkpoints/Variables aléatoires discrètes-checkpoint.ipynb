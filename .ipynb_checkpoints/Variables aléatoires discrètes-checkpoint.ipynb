{
 "cells": [
  {
   "cell_type": "markdown",
   "id": "7da22167",
   "metadata": {},
   "source": [
    "Ci dessous, nous créons une liste de toutes les issues possibles du jeu."
   ]
  },
  {
   "cell_type": "code",
   "execution_count": 1,
   "id": "f048f7ca",
   "metadata": {},
   "outputs": [
    {
     "name": "stdout",
     "output_type": "stream",
     "text": [
      "[2, 3, 4, 5, 6, 7, 3, 4, 5, 6, 7, 8, 4, 5, 6, 7, 8, 9, 5, 6, 7, 8, 9, 10, 6, 7, 8, 9, 10, 11, 7, 8, 9, 10, 11, 12]\n"
     ]
    }
   ],
   "source": [
    "gains = []\n",
    "for de1 in range(1,6+1) :\n",
    "    for de2 in range(1,6+1) :\n",
    "        gains.append(de1+de2)\n",
    "print(gains)"
   ]
  },
  {
   "cell_type": "markdown",
   "id": "b7e1ea33",
   "metadata": {},
   "source": [
    "Ci dessous, nous créons une liste de toutes les issues différentes possibles de l'évènement. Nous comptons ensuite le nombre d'issues égales à l'issue k, que nous convertissons en fraction du total."
   ]
  },
  {
   "cell_type": "code",
   "execution_count": 2,
   "id": "10d0400f",
   "metadata": {},
   "outputs": [
    {
     "name": "stdout",
     "output_type": "stream",
     "text": [
      "[(2, 0.027777777777777776), (3, 0.05555555555555555), (4, 0.08333333333333333), (5, 0.1111111111111111), (6, 0.1388888888888889), (7, 0.16666666666666666), (8, 0.1388888888888889), (9, 0.1111111111111111), (10, 0.08333333333333333), (11, 0.05555555555555555), (12, 0.027777777777777776)]\n"
     ]
    }
   ],
   "source": [
    "import numpy as np\n",
    "omegax = list(range(2,12+1))\n",
    "loi = []\n",
    "for k in omegax:\n",
    "    pk = gains.count(k) / len(gains)\n",
    "    loi.append((k,pk))\n",
    "print(loi)"
   ]
  },
  {
   "cell_type": "markdown",
   "id": "751c4720",
   "metadata": {},
   "source": [
    "Ci dessous, nous réutilisons la liste des probabilités des évènements différents. Nous les additionnons ensuite pour créer une moyenne des issues, ou une espérance de gains au jeu."
   ]
  },
  {
   "cell_type": "code",
   "execution_count": 3,
   "id": "4cac28f1",
   "metadata": {},
   "outputs": [
    {
     "name": "stdout",
     "output_type": "stream",
     "text": [
      "6.999999999999999\n"
     ]
    }
   ],
   "source": [
    "esperance = 0\n",
    "for  (k,pk) in loi:\n",
    "    esperance += k * pk\n",
    "print(esperance)"
   ]
  },
  {
   "cell_type": "markdown",
   "id": "9ffe8767",
   "metadata": {},
   "source": [
    "Ci dessous, pour chaque issue et sa probabilité, on ajoute l'issue au carré multiplié par sa probabilité à un total, que nous soustrayions finalement par l'espérance au carré. Ce qui nous donne un taux de variance parmis les issues possibles."
   ]
  },
  {
   "cell_type": "code",
   "execution_count": 4,
   "id": "3364ceca",
   "metadata": {},
   "outputs": [
    {
     "name": "stdout",
     "output_type": "stream",
     "text": [
      "5.833333333333336\n"
     ]
    }
   ],
   "source": [
    "variance = 0\n",
    "for (k,pk) in loi:\n",
    "    variance = variance + (k ** 2) * pk\n",
    "variance = variance - esperance ** 2\n",
    "print(variance)"
   ]
  },
  {
   "cell_type": "code",
   "execution_count": 60,
   "id": "9b09a8e1",
   "metadata": {},
   "outputs": [],
   "source": [
    "import random\n",
    "\n",
    "def simulation_experience():\n",
    "    return random.choices([1, 2, 3, 4, 5, 6], k=10)"
   ]
  },
  {
   "cell_type": "code",
   "execution_count": 61,
   "id": "0d10d9f4",
   "metadata": {},
   "outputs": [],
   "source": [
    "def fun_X(des):\n",
    "    return sum(des)"
   ]
  },
  {
   "cell_type": "code",
   "execution_count": 62,
   "id": "7728893f",
   "metadata": {},
   "outputs": [],
   "source": [
    "def simulation_repetee(exp, X, nrep):\n",
    "    return [X(exp()) for _ in range(nrep)]"
   ]
  },
  {
   "cell_type": "code",
   "execution_count": 63,
   "id": "50610193",
   "metadata": {},
   "outputs": [],
   "source": [
    "import random\n",
    "import numpy"
   ]
  },
  {
   "cell_type": "code",
   "execution_count": 64,
   "id": "ce1d96a4",
   "metadata": {},
   "outputs": [],
   "source": [
    "def estimation_loi(valeurs_obtenues, valeurs_possibles):\n",
    "  # Ensemble des valeurs différentes possibles\n",
    "  # prises par la variable aléatoire\n",
    "  omegax = valeurs_possibles\n",
    "  # On calcule ensuite le nombre de fois où chaque\n",
    "  # valeur de Omega_X apparait dans l'ensemble des valeurs \n",
    "  # que l'on divise par le nombre de répétitions (i.e. le nombre de valeurs)\n",
    "  res = []\n",
    "  for k in omegax :\n",
    "      res.append((k, valeurs_obtenues.count(k) / len(valeurs_obtenues)))\n",
    "  return res"
   ]
  },
  {
   "cell_type": "code",
   "execution_count": 71,
   "id": "b763b242",
   "metadata": {},
   "outputs": [
    {
     "name": "stdout",
     "output_type": "stream",
     "text": [
      "[(10, 0.0), (11, 0.0), (12, 0.0), (13, 0.0), (14, 0.0), (15, 0.0), (16, 0.0), (17, 0.001), (18, 0.0), (19, 0.0), (20, 0.001), (21, 0.002), (22, 0.004), (23, 0.008), (24, 0.005), (25, 0.016), (26, 0.014), (27, 0.025), (28, 0.034), (29, 0.047), (30, 0.049), (31, 0.059), (32, 0.065), (33, 0.062), (34, 0.072), (35, 0.071), (36, 0.072), (37, 0.076), (38, 0.058), (39, 0.062), (40, 0.049), (41, 0.045), (42, 0.029), (43, 0.029), (44, 0.014), (45, 0.014), (46, 0.007), (47, 0.007), (48, 0.002), (49, 0.0), (50, 0.0), (51, 0.0), (52, 0.0), (53, 0.001), (54, 0.0), (55, 0.0), (56, 0.0), (57, 0.0), (58, 0.0), (59, 0.0), (60, 0.0)]\n"
     ]
    }
   ],
   "source": [
    "valeurs_simulees = simulation_repetee(simulation_experience, fun_X, 1000)\n",
    "loi = estimation_loi(valeurs_simulees, list(range(10,60+1)))\n",
    "print(loi)"
   ]
  },
  {
   "cell_type": "code",
   "execution_count": 66,
   "id": "e136c2c5",
   "metadata": {},
   "outputs": [],
   "source": [
    "import matplotlib\n",
    "import matplotlib.pyplot as plt"
   ]
  },
  {
   "cell_type": "code",
   "execution_count": 67,
   "id": "9363cf37",
   "metadata": {},
   "outputs": [
    {
     "data": {
      "image/png": "[encoded data removed]",
      "text/plain": [
       "<Figure size 432x288 with 1 Axes>"
      ]
     },
     "metadata": {
      "needs_background": "light"
     },
     "output_type": "display_data"
    }
   ],
   "source": [
    "x = []\n",
    "y = []\n",
    "for (k,pk) in loi :\n",
    "  x.append(k)\n",
    "  y.append(pk)\n",
    "plt.figure()\n",
    "plt.bar(x,height = y, width = 0.2)\n",
    "plt.xlabel(\"k\")\n",
    "plt.ylabel(\"P(X=k)\")\n",
    "plt.show()"
   ]
  },
  {
   "cell_type": "code",
   "execution_count": 68,
   "id": "8f911c85",
   "metadata": {},
   "outputs": [],
   "source": [
    "def estimation_loi(valeurs_obtenues, valeurs_possibles = None):\n",
    "  # On détermine Omega_X\n",
    "  if valeurs_possibles is None :\n",
    "    omegax = numpy.unique(valeurs_obtenues)\n",
    "  else :\n",
    "    omegax = valeurs_possibles\n",
    "  # On calcule ensuite le nombre de fois où chaque\n",
    "  # valeur de Omega_X apparait dans l'ensemble des valeurs \n",
    "  # que l'on divise par le nombre de répétitions (i.e. le nombre de valeurs)\n",
    "  res = []\n",
    "  for k in omegax :\n",
    "      res.append((k, valeurs_obtenues.count(k) / len(valeurs_obtenues)))\n",
    "  return res"
   ]
  },
  {
   "cell_type": "code",
   "execution_count": 69,
   "id": "b1e7c504",
   "metadata": {},
   "outputs": [
    {
     "name": "stdout",
     "output_type": "stream",
     "text": [
      "[(14, 0.0001), (18, 0.0002), (19, 0.0009), (20, 0.0016), (21, 0.0026), (22, 0.0039), (23, 0.0074), (24, 0.0104), (25, 0.0155), (26, 0.0178), (27, 0.0249), (28, 0.0327), (29, 0.0379), (30, 0.046), (31, 0.0576), (32, 0.0671), (33, 0.0666), (34, 0.0735), (35, 0.0728), (36, 0.0726), (37, 0.0677), (38, 0.0629), (39, 0.0542), (40, 0.0504), (41, 0.037), (42, 0.0298), (43, 0.0265), (44, 0.0182), (45, 0.0168), (46, 0.0091), (47, 0.0066), (48, 0.005), (49, 0.0024), (50, 0.0005), (51, 0.0003), (52, 0.0002), (53, 0.0001), (55, 0.0002)]\n"
     ]
    }
   ],
   "source": [
    "valeurs_simulees = simulation_repetee(simulation_experience, fun_X, 10000)\n",
    "loi = estimation_loi(valeurs_simulees)\n",
    "print(loi)"
   ]
  },
  {
   "cell_type": "code",
   "execution_count": 72,
   "id": "20f1afde",
   "metadata": {},
   "outputs": [
    {
     "data": {
      "image/png": "[encoded data removed]",
      "text/plain": [
       "<Figure size 432x288 with 1 Axes>"
      ]
     },
     "metadata": {
      "needs_background": "light"
     },
     "output_type": "display_data"
    }
   ],
   "source": [
    "x = []\n",
    "y = []\n",
    "for (k,pk) in loi :\n",
    "  x.append(k)\n",
    "  y.append(pk)\n",
    "plt.figure()\n",
    "plt.bar(x,height = y, width = 0.2)\n",
    "plt.xlabel(\"k\")\n",
    "plt.ylabel(\"P(X=k)\")\n",
    "plt.show()"
   ]
  },
  {
   "cell_type": "markdown",
   "id": "2a04251e",
   "metadata": {},
   "source": [
    "# Exercices"
   ]
  },
  {
   "cell_type": "markdown",
   "id": "6e7f4120",
   "metadata": {},
   "source": [
    "## 5000 simplifié"
   ]
  },
  {
   "cell_type": "markdown",
   "id": "81059d33",
   "metadata": {},
   "source": [
    "Issues possibles"
   ]
  },
  {
   "cell_type": "code",
   "execution_count": 87,
   "id": "38e0754e",
   "metadata": {},
   "outputs": [],
   "source": [
    "def jet5des():\n",
    "    return random.choices([1, 2, 3, 4, 5, 6], k=5)"
   ]
  },
  {
   "cell_type": "markdown",
   "id": "43a443d6",
   "metadata": {},
   "source": [
    "convertion en valeurs"
   ]
  },
  {
   "cell_type": "code",
   "execution_count": 90,
   "id": "de503da7",
   "metadata": {},
   "outputs": [],
   "source": [
    "def valeurs(jet):\n",
    "    val = {\"50\": 0,\n",
    "          \"100\": 0,\n",
    "          \"0\": 0}\n",
    "    for de in jet :\n",
    "        if de == 5 :\n",
    "            val[\"50\"] += 1 \n",
    "        elif de == 1 :\n",
    "            val[\"100\"] += 1\n",
    "        else :\n",
    "            val[\"0\"] += 1\n",
    "    return val"
   ]
  },
  {
   "cell_type": "markdown",
   "id": "1aa0b539",
   "metadata": {},
   "source": [
    "définition d'un jeu"
   ]
  },
  {
   "cell_type": "code",
   "execution_count": 92,
   "id": "15dad2d1",
   "metadata": {},
   "outputs": [],
   "source": [
    "def jeu():\n",
    "    des = jet5des()\n",
    "    rdéfinition d'un jeueturn valeurs(des)"
   ]
  },
  {
   "cell_type": "markdown",
   "id": "40a3a263",
   "metadata": {},
   "source": [
    "Expériences répétées"
   ]
  },
  {
   "cell_type": "code",
   "execution_count": 94,
   "id": "56bec62a",
   "metadata": {},
   "outputs": [],
   "source": [
    "def experience5000(nrep):\n",
    "    return [valeurs(jet5des) for _ in range(nrep)]"
   ]
  },
  {
   "cell_type": "markdown",
   "id": "474dc33e",
   "metadata": {},
   "source": [
    "estimation de probabilité"
   ]
  },
  {
   "cell_type": "code",
   "execution_count": 78,
   "id": "15a7ac56",
   "metadata": {},
   "outputs": [],
   "source": [
    "def estimation_loi(valeurs_obtenues, valeurs_possibles = None):\n",
    "    # On détermine Omega_X\n",
    "    if valeurs_possibles is None :\n",
    "        omegax = numpy.unique(valeurs_obtenues)\n",
    "    else :\n",
    "        omegax = valeurs_possibles\n",
    "        # On calcule ensuite le nombre de fois où chaque\n",
    "        # valeur de Omega_X apparait dans l'ensemble des valeurs \n",
    "        # que l'on divise par le nombre de répétitions (i.e. le nombre de valeurs)\n",
    "        res = []\n",
    "        for k in omegax :\n",
    "            res.append((k, valeurs_obtenues.count(k) / len(valeurs_obtenues)))\n",
    "        return res"
   ]
  },
  {
   "cell_type": "code",
   "execution_count": null,
   "id": "0a901c11",
   "metadata": {},
   "outputs": [],
   "source": []
  },
  {
   "cell_type": "code",
   "execution_count": null,
   "id": "4d1d6905",
   "metadata": {},
   "outputs": [],
   "source": []
  },
  {
   "cell_type": "code",
   "execution_count": null,
   "id": "6b6487dc",
   "metadata": {},
   "outputs": [],
   "source": []
  },
  {
   "cell_type": "code",
   "execution_count": null,
   "id": "b585c186",
   "metadata": {},
   "outputs": [],
   "source": []
  },
  {
   "cell_type": "code",
   "execution_count": null,
   "id": "54ec0f54",
   "metadata": {},
   "outputs": [],
   "source": []
  },
  {
   "cell_type": "code",
   "execution_count": null,
   "id": "ca5144ae",
   "metadata": {},
   "outputs": [],
   "source": []
  },
  {
   "cell_type": "code",
   "execution_count": null,
   "id": "810ce877",
   "metadata": {},
   "outputs": [],
   "source": []
  },
  {
   "cell_type": "code",
   "execution_count": null,
   "id": "f383dec1",
   "metadata": {},
   "outputs": [],
   "source": []
  },
  {
   "cell_type": "code",
   "execution_count": null,
   "id": "82329ddf",
   "metadata": {},
   "outputs": [],
   "source": []
  },
  {
   "cell_type": "code",
   "execution_count": null,
   "id": "14bef855",
   "metadata": {},
   "outputs": [],
   "source": []
  },
  {
   "cell_type": "code",
   "execution_count": null,
   "id": "b8ecddda",
   "metadata": {},
   "outputs": [],
   "source": []
  },
  {
   "cell_type": "code",
   "execution_count": null,
   "id": "46a5d205",
   "metadata": {},
   "outputs": [],
   "source": []
  },
  {
   "cell_type": "code",
   "execution_count": null,
   "id": "08ecf79d",
   "metadata": {},
   "outputs": [],
   "source": [
    "\n"
   ]
  }
 ],
 "metadata": {
  "kernelspec": {
   "display_name": "Python 3 (ipykernel)",
   "language": "python",
   "name": "python3"
  },
  "language_info": {
   "codemirror_mode": {
    "name": "ipython",
    "version": 3
   },
   "file_extension": ".py",
   "mimetype": "text/x-python",
   "name": "python",
   "nbconvert_exporter": "python",
   "pygments_lexer": "ipython3",
   "version": "3.8.10"
  }
 },
 "nbformat": 4,
 "nbformat_minor": 5
}
