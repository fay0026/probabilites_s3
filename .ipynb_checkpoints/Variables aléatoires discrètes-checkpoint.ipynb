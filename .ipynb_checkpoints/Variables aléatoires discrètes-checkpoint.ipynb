{
 "cells": [
  {
   "cell_type": "markdown",
   "id": "7da22167",
   "metadata": {},
   "source": [
    "Ci dessous, nous créons une liste de toutes les issues possibles du jeu."
   ]
  },
  {
   "cell_type": "code",
   "execution_count": 1,
   "id": "f048f7ca",
   "metadata": {},
   "outputs": [
    {
     "name": "stdout",
     "output_type": "stream",
     "text": [
      "[2, 3, 4, 5, 6, 7, 3, 4, 5, 6, 7, 8, 4, 5, 6, 7, 8, 9, 5, 6, 7, 8, 9, 10, 6, 7, 8, 9, 10, 11, 7, 8, 9, 10, 11, 12]\n"
     ]
    }
   ],
   "source": [
    "gains = []\n",
    "for de1 in range(1,6+1) :\n",
    "    for de2 in range(1,6+1) :\n",
    "        gains.append(de1+de2)\n",
    "print(gains)"
   ]
  },
  {
   "cell_type": "markdown",
   "id": "b7e1ea33",
   "metadata": {},
   "source": [
    "Ci dessous, nous créons une liste de toutes les issues différentes possibles de l'évènement. Nous comptons ensuite le nombre d'issues égales à l'issue k, que nous convertissons en fraction du total."
   ]
  },
  {
   "cell_type": "code",
   "execution_count": 2,
   "id": "10d0400f",
   "metadata": {},
   "outputs": [
    {
     "name": "stdout",
     "output_type": "stream",
     "text": [
      "[(2, 0.027777777777777776), (3, 0.05555555555555555), (4, 0.08333333333333333), (5, 0.1111111111111111), (6, 0.1388888888888889), (7, 0.16666666666666666), (8, 0.1388888888888889), (9, 0.1111111111111111), (10, 0.08333333333333333), (11, 0.05555555555555555), (12, 0.027777777777777776)]\n"
     ]
    }
   ],
   "source": [
    "import numpy as np\n",
    "omegax = list(range(2,12+1))\n",
    "loi = []\n",
    "for k in omegax:\n",
    "    pk = gains.count(k) / len(gains)\n",
    "    loi.append((k,pk))\n",
    "print(loi)"
   ]
  },
  {
   "cell_type": "markdown",
   "id": "751c4720",
   "metadata": {},
   "source": [
    "Ci dessous, nous réutilisons la liste des probabilités des évènements différents. Nous les additionnons ensuite pour créer une moyenne des issues, ou une espérance de gains au jeu."
   ]
  },
  {
   "cell_type": "code",
   "execution_count": 3,
   "id": "4cac28f1",
   "metadata": {},
   "outputs": [
    {
     "name": "stdout",
     "output_type": "stream",
     "text": [
      "6.999999999999999\n"
     ]
    }
   ],
   "source": [
    "esperance = 0\n",
    "for  (k,pk) in loi:\n",
    "    esperance += k * pk\n",
    "print(esperance)"
   ]
  },
  {
   "cell_type": "markdown",
   "id": "9ffe8767",
   "metadata": {},
   "source": [
    "Ci dessous, pour chaque issue et sa probabilité, on ajoute l'issue au carré multiplié par sa probabilité à un total, que nous soustrayions finalement par l'espérance au carré. Ce qui nous donne un taux de variance parmis les issues possibles."
   ]
  },
  {
   "cell_type": "code",
   "execution_count": 4,
   "id": "3364ceca",
   "metadata": {},
   "outputs": [
    {
     "name": "stdout",
     "output_type": "stream",
     "text": [
      "5.833333333333336\n"
     ]
    }
   ],
   "source": [
    "variance = 0\n",
    "for (k,pk) in loi:\n",
    "    variance = variance + (k ** 2) * pk\n",
    "variance = variance - esperance ** 2\n",
    "print(variance)"
   ]
  },
  {
   "cell_type": "code",
   "execution_count": 5,
   "id": "9b09a8e1",
   "metadata": {},
   "outputs": [],
   "source": [
    "import random\n",
    "\n",
    "def simulation_experience():\n",
    "    return random.choices([1, 2, 3, 4, 5, 6], k=10)"
   ]
  },
  {
   "cell_type": "code",
   "execution_count": 6,
   "id": "0d10d9f4",
   "metadata": {},
   "outputs": [],
   "source": [
    "def fun_X(des):\n",
    "    return sum(des)"
   ]
  },
  {
   "cell_type": "code",
   "execution_count": 7,
   "id": "7728893f",
   "metadata": {},
   "outputs": [],
   "source": [
    "def simulation_repetee(exp, X, nrep):\n",
    "    return [X(exp()) for _ in range(nrep)]"
   ]
  },
  {
   "cell_type": "code",
   "execution_count": 8,
   "id": "50610193",
   "metadata": {},
   "outputs": [],
   "source": [
    "import random\n",
    "import numpy"
   ]
  },
  {
   "cell_type": "code",
   "execution_count": 9,
   "id": "ce1d96a4",
   "metadata": {},
   "outputs": [],
   "source": [
    "def estimation_loi(valeurs_obtenues, valeurs_possibles):\n",
    "  # Ensemble des valeurs différentes possibles\n",
    "  # prises par la variable aléatoire\n",
    "  omegax = valeurs_possibles\n",
    "  # On calcule ensuite le nombre de fois où chaque\n",
    "  # valeur de Omega_X apparait dans l'ensemble des valeurs \n",
    "  # que l'on divise par le nombre de répétitions (i.e. le nombre de valeurs)\n",
    "  res = []\n",
    "  for k in omegax :\n",
    "      res.append((k, valeurs_obtenues.count(k) / len(valeurs_obtenues)))\n",
    "  return res"
   ]
  },
  {
   "cell_type": "code",
   "execution_count": 10,
   "id": "6cd4b8d6",
   "metadata": {},
   "outputs": [
    {
     "name": "stdout",
     "output_type": "stream",
     "text": [
      "[(10, 0.0), (11, 0.0), (12, 0.0), (13, 0.0), (14, 0.0), (15, 0.0), (16, 0.0), (17, 0.0), (18, 0.0), (19, 0.0), (20, 0.002), (21, 0.004), (22, 0.002), (23, 0.008), (24, 0.012), (25, 0.018), (26, 0.016), (27, 0.027), (28, 0.031), (29, 0.031), (30, 0.051), (31, 0.05), (32, 0.055), (33, 0.071), (34, 0.086), (35, 0.057), (36, 0.074), (37, 0.073), (38, 0.073), (39, 0.051), (40, 0.051), (41, 0.046), (42, 0.032), (43, 0.021), (44, 0.02), (45, 0.01), (46, 0.008), (47, 0.008), (48, 0.006), (49, 0.003), (50, 0.002), (51, 0.0), (52, 0.001), (53, 0.0), (54, 0.0), (55, 0.0), (56, 0.0), (57, 0.0), (58, 0.0), (59, 0.0), (60, 0.0)]\n"
     ]
    }
   ],
   "source": [
    "valeurs_simulees = simulation_repetee(simulation_experience, fun_X, 1000)\n",
    "loi = estimation_loi(valeurs_simulees, list(range(10,60+1)))\n",
    "print(loi)"
   ]
  },
  {
   "cell_type": "code",
   "execution_count": 11,
   "id": "aa7c8f93",
   "metadata": {},
   "outputs": [],
   "source": [
    "import matplotlib\n",
    "import matplotlib.pyplot as plt"
   ]
  },
  {
   "cell_type": "code",
   "execution_count": 12,
   "id": "66b66d7d",
   "metadata": {},
   "outputs": [
    {
     "data": {
      "image/png": "[encoded data removed]",
      "text/plain": [
       "<Figure size 432x288 with 1 Axes>"
      ]
     },
     "metadata": {
      "needs_background": "light"
     },
     "output_type": "display_data"
    }
   ],
   "source": [
    "x = []\n",
    "y = []\n",
    "for (k,pk) in loi :\n",
    "  x.append(k)\n",
    "  y.append(pk)\n",
    "plt.figure()\n",
    "plt.bar(x,height = y, width = 0.2)\n",
    "plt.xlabel(\"k\")\n",
    "plt.ylabel(\"P(X=k)\")\n",
    "plt.show()"
   ]
  },
  {
   "cell_type": "code",
   "execution_count": 13,
   "id": "78f8a530",
   "metadata": {},
   "outputs": [],
   "source": [
    "def estimation_loi(valeurs_obtenues, valeurs_possibles = None):\n",
    "  # On détermine Omega_X\n",
    "  if valeurs_possibles is None :\n",
    "    omegax = numpy.unique(valeurs_obtenues)\n",
    "  else :\n",
    "    omegax = valeurs_possibles\n",
    "  # On calcule ensuite le nombre de fois où chaque\n",
    "  # valeur de Omega_X apparait dans l'ensemble des valeurs \n",
    "  # que l'on divise par le nombre de répétitions (i.e. le nombre de valeurs)\n",
    "  res = []\n",
    "  for k in omegax :\n",
    "      res.append((k, valeurs_obtenues.count(k) / len(valeurs_obtenues)))\n",
    "  return res"
   ]
  },
  {
   "cell_type": "code",
   "execution_count": 14,
   "id": "79fa20cd",
   "metadata": {},
   "outputs": [
    {
     "name": "stdout",
     "output_type": "stream",
     "text": [
      "[(13, 0.0001), (16, 0.0001), (17, 0.0003), (18, 0.0002), (19, 0.0013), (20, 0.0012), (21, 0.0015), (22, 0.004), (23, 0.0052), (24, 0.0096), (25, 0.0142), (26, 0.0199), (27, 0.0257), (28, 0.0331), (29, 0.0396), (30, 0.048), (31, 0.0546), (32, 0.0605), (33, 0.0671), (34, 0.0698), (35, 0.076), (36, 0.0766), (37, 0.0695), (38, 0.0587), (39, 0.054), (40, 0.0495), (41, 0.0408), (42, 0.0323), (43, 0.0247), (44, 0.0205), (45, 0.0136), (46, 0.0119), (47, 0.0064), (48, 0.0035), (49, 0.0026), (50, 0.0017), (51, 0.0009), (52, 0.0005), (53, 0.0002), (54, 0.0001)]\n"
     ]
    }
   ],
   "source": [
    "valeurs_simulees = simulation_repetee(simulation_experience, fun_X, 10000)\n",
    "loi = estimation_loi(valeurs_simulees)\n",
    "print(loi)"
   ]
  },
  {
   "cell_type": "code",
   "execution_count": 15,
   "id": "81b27b35",
   "metadata": {},
   "outputs": [
    {
     "data": {
      "image/png": "[encoded data removed]",
      "text/plain": [
       "<Figure size 432x288 with 1 Axes>"
      ]
     },
     "metadata": {
      "needs_background": "light"
     },
     "output_type": "display_data"
    }
   ],
   "source": [
    "x = []\n",
    "y = []\n",
    "for (k,pk) in loi :\n",
    "  x.append(k)\n",
    "  y.append(pk)\n",
    "plt.figure()\n",
    "plt.bar(x,height = y, width = 0.2)\n",
    "plt.xlabel(\"k\")\n",
    "plt.ylabel(\"P(X=k)\")\n",
    "plt.show()"
   ]
  },
  {
   "cell_type": "markdown",
   "id": "cf43ba06",
   "metadata": {},
   "source": [
    "# Exercices"
   ]
  },
  {
   "cell_type": "markdown",
   "id": "b447c291",
   "metadata": {},
   "source": [
    "## 5000 simplifié"
   ]
  },
  {
   "cell_type": "markdown",
   "id": "3c7e85bc",
   "metadata": {},
   "source": [
    "Issues possibles"
   ]
  },
  {
   "cell_type": "code",
   "execution_count": 16,
   "id": "d1446aff",
   "metadata": {},
   "outputs": [],
   "source": [
    "def jet5des():\n",
    "    return random.choices([1, 2, 3, 4, 5, 6], k=5)"
   ]
  },
  {
   "cell_type": "markdown",
   "id": "4543d7e5",
   "metadata": {},
   "source": [
    "convertion en valeurs"
   ]
  },
  {
   "cell_type": "code",
   "execution_count": 17,
   "id": "2ee46a4d",
   "metadata": {},
   "outputs": [],
   "source": [
    "def valeurs(jet):\n",
    "    val = 0\n",
    "    for de in jet :\n",
    "        if de == 5 :\n",
    "            val+=50\n",
    "        elif de == 1 :\n",
    "            val+=100\n",
    "    return val"
   ]
  },
  {
   "cell_type": "markdown",
   "id": "288d0337",
   "metadata": {},
   "source": [
    "définition d'un jeu"
   ]
  },
  {
   "cell_type": "code",
   "execution_count": 18,
   "id": "ff018223",
   "metadata": {},
   "outputs": [],
   "source": [
    "def jeu():\n",
    "    des = jet5des()\n",
    "    return valeurs(des)"
   ]
  },
  {
   "cell_type": "markdown",
   "id": "1d993b40",
   "metadata": {},
   "source": [
    "Expériences répétées"
   ]
  },
  {
   "cell_type": "code",
   "execution_count": 19,
   "id": "4d8a3e2d",
   "metadata": {},
   "outputs": [],
   "source": [
    "def experience5000(nrep):\n",
    "    return [valeurs(jet5des()) for _ in range(nrep)]"
   ]
  },
  {
   "cell_type": "markdown",
   "id": "1a076a8f",
   "metadata": {},
   "source": [
    "loi de probabilité"
   ]
  },
  {
   "cell_type": "code",
   "execution_count": 20,
   "id": "4525d544",
   "metadata": {},
   "outputs": [],
   "source": [
    "def estimation_loi(résultats, valeurs_possibles = None):\n",
    "    # On détermine l'univers de X, ou les possibilités\n",
    "    if valeurs_possibles is None :\n",
    "        Possibilités = numpy.unique(résultats)\n",
    "    else :\n",
    "        Possibilités = valeurs_possibles\n",
    "        # On calcule ensuite le nombre de fois où chaque\n",
    "        # valeur de l'univers de X apparait dans l'ensemble des valeurs \n",
    "        # que l'on divise par le nombre de répétitions (i.e. le nombre de valeurs)\n",
    "    res = []\n",
    "    for p in Possibilités :\n",
    "        res.append((p, résultats.count(p) / len(résultats)))\n",
    "    return res"
   ]
  },
  {
   "cell_type": "markdown",
   "id": "82efb1d7",
   "metadata": {},
   "source": [
    "Espérance"
   ]
  },
  {
   "cell_type": "code",
   "execution_count": 21,
   "id": "d1dfe4e2",
   "metadata": {},
   "outputs": [],
   "source": [
    "def Esperance(loi) :\n",
    "    e = 0\n",
    "    for (k,pk) in loi:\n",
    "        e += k * pk\n",
    "    return e"
   ]
  },
  {
   "cell_type": "markdown",
   "id": "44f2af5e",
   "metadata": {},
   "source": [
    "Variance"
   ]
  },
  {
   "cell_type": "code",
   "execution_count": 22,
   "id": "77a5bf11",
   "metadata": {},
   "outputs": [],
   "source": [
    "def Variance(loi) :\n",
    "    v = 0\n",
    "    for (k,pk) in loi:\n",
    "        v = v + (k ** 2) * pk\n",
    "    v = v - esperance ** 2\n",
    "    return v"
   ]
  },
  {
   "cell_type": "markdown",
   "id": "26d857ff",
   "metadata": {},
   "source": [
    "Mise en forme"
   ]
  },
  {
   "cell_type": "code",
   "execution_count": 23,
   "id": "54000513",
   "metadata": {},
   "outputs": [],
   "source": [
    "def cinqmille(nbrep):\n",
    "    résultats = experience5000(nbrep)\n",
    "    loi = estimation_loi(résultats)\n",
    "    Esp = Esperance(loi)\n",
    "    Var = Variance(loi)\n",
    "    retour = {\n",
    "        'loi' : loi,\n",
    "        'E' : Esp,\n",
    "        'V' : Var\n",
    "    }\n",
    "    return retour"
   ]
  },
  {
   "cell_type": "code",
   "execution_count": 24,
   "id": "98c8bf1f",
   "metadata": {},
   "outputs": [
    {
     "name": "stdout",
     "output_type": "stream",
     "text": [
      "{'loi': [(0, 0.158), (50, 0.159), (100, 0.245), (150, 0.201), (200, 0.126), (250, 0.062), (300, 0.035), (350, 0.01), (400, 0.002), (450, 0.002)], 'E': 119.00000000000001, 'V': 21336.0}\n"
     ]
    }
   ],
   "source": [
    "print(cinqmille(1000))"
   ]
  },
  {
   "cell_type": "markdown",
   "id": "9601dde5",
   "metadata": {},
   "source": [
    "## Sanction pifométrique"
   ]
  },
  {
   "cell_type": "markdown",
   "id": "d53fab4f",
   "metadata": {},
   "source": [
    "Issues possibles"
   ]
  },
  {
   "cell_type": "code",
   "execution_count": 25,
   "id": "ca07f657",
   "metadata": {},
   "outputs": [],
   "source": [
    "def sanctions():\n",
    "    return np.random.choice(['gentil', 'méchant'], 13, p=[0.10,0.90])"
   ]
  },
  {
   "cell_type": "markdown",
   "id": "ff809ec9",
   "metadata": {},
   "source": [
    "convertion en correct"
   ]
  },
  {
   "cell_type": "code",
   "execution_count": 66,
   "id": "0fdc5240",
   "metadata": {},
   "outputs": [],
   "source": [
    "def correct(sanction):\n",
    "    c = 0\n",
    "    for s in sanction :\n",
    "        if s == 'gentil' :\n",
    "            c += 1\n",
    "    return c"
   ]
  },
  {
   "cell_type": "markdown",
   "id": "288d0337",
   "metadata": {},
   "source": [
    "définition d'un expérience"
   ]
  },
  {
   "cell_type": "code",
   "execution_count": 57,
   "id": "ff018223",
   "metadata": {},
   "outputs": [],
   "source": [
    "def expérience():\n",
    "    s = sanctions()\n",
    "    return correct(s)"
   ]
  },
  {
   "cell_type": "markdown",
   "id": "1d993b40",
   "metadata": {},
   "source": [
    "Expériences répétées"
   ]
  },
  {
   "cell_type": "code",
   "execution_count": 58,
   "id": "4d8a3e2d",
   "metadata": {},
   "outputs": [],
   "source": [
    "def répétitions(nrep):\n",
    "    return [correct(sanctions()) for _ in range(nrep)]"
   ]
  },
  {
   "cell_type": "markdown",
   "id": "1a076a8f",
   "metadata": {},
   "source": [
    "loi de probabilité"
   ]
  },
  {
   "cell_type": "code",
   "execution_count": 59,
   "id": "4525d544",
   "metadata": {},
   "outputs": [],
   "source": [
    "def estimation_loi(résultats, valeurs_possibles = None):\n",
    "    # On détermine l'univers de X, ou les possibilités\n",
    "    if valeurs_possibles is None :\n",
    "        Possibilités = numpy.unique(résultats)\n",
    "    else :\n",
    "        Possibilités = valeurs_possibles\n",
    "        # On calcule ensuite le nombre de fois où chaque\n",
    "        # valeur de l'univers de X apparait dans l'ensemble des valeurs \n",
    "        # que l'on divise par le nombre de répétitions (i.e. le nombre de valeurs)\n",
    "    res = []\n",
    "    for p in Possibilités :\n",
    "        res.append((p, résultats.count(p) / len(résultats)))\n",
    "    return res"
   ]
  },
  {
   "cell_type": "markdown",
   "id": "82efb1d7",
   "metadata": {},
   "source": [
    "Espérance"
   ]
  },
  {
   "cell_type": "code",
   "execution_count": 68,
   "id": "d1dfe4e2",
   "metadata": {},
   "outputs": [],
   "source": [
    "def Esperance(loi) :\n",
    "    e = 0\n",
    "    for (k,pk) in loi:\n",
    "        e += k * pk\n",
    "    return e"
   ]
  },
  {
   "cell_type": "markdown",
   "id": "44f2af5e",
   "metadata": {},
   "source": [
    "Variance"
   ]
  },
  {
   "cell_type": "code",
   "execution_count": 73,
   "id": "77a5bf11",
   "metadata": {},
   "outputs": [],
   "source": [
    "def Variance(loi, esp) :\n",
    "    v = 0\n",
    "    for (k,pk) in loi:\n",
    "        v = v + (k ** 2) * pk\n",
    "    v = v - esp ** 2\n",
    "    return v"
   ]
  },
  {
   "cell_type": "markdown",
   "id": "26d857ff",
   "metadata": {},
   "source": [
    "Mise en forme"
   ]
  },
  {
   "cell_type": "code",
   "execution_count": 74,
   "id": "54000513",
   "metadata": {},
   "outputs": [],
   "source": [
    "def pifométrique(nbrep):\n",
    "    résultats = répétitions(nbrep)\n",
    "    loi = estimation_loi(résultats, list(range(0,13+1)))\n",
    "    Esp = Esperance(loi)\n",
    "    Var = Variance(loi, Esp)\n",
    "    retour = {\n",
    "        'loi' : loi,\n",
    "        'E' : Esp,\n",
    "        'V' : Var\n",
    "    }\n",
    "    return retour"
   ]
  },
  {
   "cell_type": "code",
   "execution_count": 75,
   "id": "98c8bf1f",
   "metadata": {},
   "outputs": [
    {
     "name": "stdout",
     "output_type": "stream",
     "text": [
      "{'loi': [(0, 0.2551), (1, 0.3686), (2, 0.2416), (3, 0.102), (4, 0.0262), (5, 0.0055), (6, 0.001), (7, 0.0), (8, 0.0), (9, 0.0), (10, 0.0), (11, 0.0), (12, 0.0), (13, 0.0)], 'E': 1.2961, 'V': 1.1658247900000003}\n"
     ]
    }
   ],
   "source": [
    "print(pifométrique(10000))"
   ]
  },
  {
   "cell_type": "code",
   "execution_count": null,
   "id": "1b5fe7e2",
   "metadata": {},
   "outputs": [],
   "source": []
  },
  {
   "cell_type": "code",
   "execution_count": null,
   "id": "671634a5",
   "metadata": {},
   "outputs": [],
   "source": []
  },
  {
   "cell_type": "code",
   "execution_count": null,
   "id": "a99a40f5",
   "metadata": {},
   "outputs": [],
   "source": []
  },
  {
   "cell_type": "code",
   "execution_count": null,
   "id": "b4dd4f45",
   "metadata": {},
   "outputs": [],
   "source": []
  },
  {
   "cell_type": "code",
   "execution_count": null,
   "id": "11b16e11",
   "metadata": {},
   "outputs": [],
   "source": []
  },
  {
   "cell_type": "code",
   "execution_count": null,
   "id": "e612294c",
   "metadata": {},
   "outputs": [],
   "source": [
    "\n"
   ]
  }
 ],
 "metadata": {
  "kernelspec": {
   "display_name": "Python 3 (ipykernel)",
   "language": "python",
   "name": "python3"
  },
  "language_info": {
   "codemirror_mode": {
    "name": "ipython",
    "version": 3
   },
   "file_extension": ".py",
   "mimetype": "text/x-python",
   "name": "python",
   "nbconvert_exporter": "python",
   "pygments_lexer": "ipython3",
   "version": "3.8.10"
  }
 },
 "nbformat": 4,
 "nbformat_minor": 5
}
