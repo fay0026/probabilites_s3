{
 "cells": [
  {
   "cell_type": "markdown",
   "id": "3ce227c3",
   "metadata": {},
   "source": [
    "# TP TEST PROBA STATS"
   ]
  },
  {
   "cell_type": "code",
   "execution_count": 1,
   "id": "ec461431",
   "metadata": {},
   "outputs": [],
   "source": [
    "import numpy as np\n",
    "import random\n",
    "import math\n",
    "import matplotlib.pyplot as plt"
   ]
  },
  {
   "cell_type": "markdown",
   "id": "a6d9eee5",
   "metadata": {},
   "source": [
    "## Exercice 1"
   ]
  },
  {
   "cell_type": "code",
   "execution_count": 2,
   "id": "7439fca3",
   "metadata": {},
   "outputs": [],
   "source": [
    "def chevaux_gagnants():\n",
    "    return random.choice([1,2,3,4,5,6,7,8,9,10,11,12, 13, 14, 15])"
   ]
  },
  {
   "cell_type": "code",
   "execution_count": 3,
   "id": "f7ccd914",
   "metadata": {},
   "outputs": [],
   "source": [
    "def check():\n",
    "    ret = False\n",
    "    if chevaux_gagnants() < 5 :\n",
    "        ret = True\n",
    "    return ret"
   ]
  },
  {
   "cell_type": "code",
   "execution_count": 4,
   "id": "136bcfa2",
   "metadata": {},
   "outputs": [],
   "source": [
    "def expérience(n):\n",
    "    gagnés = 0\n",
    "    for i in range(n):\n",
    "        if check() :\n",
    "            gagnés += 1\n",
    "    return gagnés/n"
   ]
  },
  {
   "cell_type": "code",
   "execution_count": 5,
   "id": "c10f9e62",
   "metadata": {},
   "outputs": [],
   "source": [
    "def exo1(n):\n",
    "    return expérience(n)"
   ]
  },
  {
   "cell_type": "code",
   "execution_count": 6,
   "id": "8f9f4a31",
   "metadata": {},
   "outputs": [
    {
     "name": "stdout",
     "output_type": "stream",
     "text": [
      "0.292\n"
     ]
    }
   ],
   "source": [
    "print(exo1(500))"
   ]
  },
  {
   "cell_type": "markdown",
   "id": "17c2af42",
   "metadata": {},
   "source": [
    "## Exercice 2"
   ]
  },
  {
   "cell_type": "code",
   "execution_count": 7,
   "id": "a29326b2",
   "metadata": {},
   "outputs": [],
   "source": [
    "def urne2(n):\n",
    "    return np.random.choice(10, n, replace = True)"
   ]
  },
  {
   "cell_type": "code",
   "execution_count": 8,
   "id": "7af086b9",
   "metadata": {},
   "outputs": [],
   "source": [
    "def expérience():\n",
    "    res = 0\n",
    "    urne1 = np.random.choice(['rouge','bleu'], 1, p=[0.6,0.4])\n",
    "    if urne1 == 'rouge':\n",
    "        temp = urne2(2)\n",
    "        res = temp[0] + temp[1]\n",
    "    else :\n",
    "        temp = urne2(1)\n",
    "        res = temp[0]\n",
    "    return res"
   ]
  },
  {
   "cell_type": "code",
   "execution_count": 9,
   "id": "c518760e",
   "metadata": {},
   "outputs": [],
   "source": [
    "def exo2(n):\n",
    "    res = []\n",
    "    for i in range(n):\n",
    "        res.append(expérience())\n",
    "    return res"
   ]
  },
  {
   "cell_type": "code",
   "execution_count": 10,
   "id": "2bb14e51",
   "metadata": {},
   "outputs": [
    {
     "name": "stdout",
     "output_type": "stream",
     "text": [
      "[2, 10, 16, 11, 14, 12, 15, 15, 9, 8, 13, 4, 10, 2, 8, 8, 16, 8, 1, 7, 4, 2, 10, 6, 7, 7, 6, 11, 5, 8, 11, 17, 3, 8, 7, 11, 11, 1, 8, 16, 10, 10, 0, 3, 7, 5, 12, 6, 8, 3]\n"
     ]
    }
   ],
   "source": [
    "print(exo2(50))"
   ]
  },
  {
   "cell_type": "markdown",
   "id": "428d7977",
   "metadata": {},
   "source": [
    "Ci dessous, nous créons une liste de toutes les issues possibles du jeu."
   ]
  },
  {
   "cell_type": "code",
   "execution_count": 11,
   "id": "68c01fda",
   "metadata": {},
   "outputs": [],
   "source": [
    "urnes = exo2(100)"
   ]
  },
  {
   "cell_type": "markdown",
   "id": "d8a2ab12",
   "metadata": {},
   "source": [
    "Ci dessous, nous créons une liste de toutes les issues différentes possibles de l'évènement. Nous comptons ensuite le nombre d'issues égales à l'issue k, que nous convertissons en fraction du total."
   ]
  },
  {
   "cell_type": "code",
   "execution_count": 12,
   "id": "352a9e87",
   "metadata": {},
   "outputs": [
    {
     "name": "stdout",
     "output_type": "stream",
     "text": [
      "[(2, 0.03), (3, 0.06), (4, 0.04), (5, 0.09), (6, 0.04), (7, 0.1), (8, 0.1), (9, 0.09), (10, 0.09), (11, 0.05), (12, 0.04)]\n"
     ]
    }
   ],
   "source": [
    "omegax = list(range(2,12+1))\n",
    "loi = []\n",
    "for k in omegax:\n",
    "    pk = urnes.count(k) / len(urnes)\n",
    "    loi.append((k,pk))\n",
    "print(loi)"
   ]
  },
  {
   "cell_type": "markdown",
   "id": "b8fe9769",
   "metadata": {},
   "source": [
    "Ci dessous, nous réutilisons la liste des probabilités des évènements différents. Nous les additionnons ensuite pour créer une moyenne des issues, ou une espérance de gains au jeu."
   ]
  },
  {
   "cell_type": "code",
   "execution_count": 13,
   "id": "dd2f6763",
   "metadata": {},
   "outputs": [
    {
     "name": "stdout",
     "output_type": "stream",
     "text": [
      "5.33\n"
     ]
    }
   ],
   "source": [
    "esperance = 0\n",
    "for  (k,pk) in loi:\n",
    "    esperance += k * pk\n",
    "print(esperance)"
   ]
  },
  {
   "cell_type": "markdown",
   "id": "9c5061f9",
   "metadata": {},
   "source": [
    "Ci dessous, pour chaque issue et sa probabilité, on ajoute l'issue au carré multiplié par sa probabilité à un total, que nous soustrayions finalement par l'espérance au carré. Ce qui nous donne un taux de variance parmis les issues possibles."
   ]
  },
  {
   "cell_type": "code",
   "execution_count": 14,
   "id": "f270eb6a",
   "metadata": {},
   "outputs": [
    {
     "name": "stdout",
     "output_type": "stream",
     "text": [
      "15.981099999999994\n"
     ]
    }
   ],
   "source": [
    "variance = 0\n",
    "for (k,pk) in loi:\n",
    "    variance = variance + (k ** 2) * pk\n",
    "variance = variance - esperance ** 2\n",
    "print(variance)"
   ]
  },
  {
   "cell_type": "markdown",
   "id": "f53c0e9f",
   "metadata": {},
   "source": [
    "## Exercice 3"
   ]
  },
  {
   "cell_type": "code",
   "execution_count": 15,
   "id": "b4d4ca16",
   "metadata": {},
   "outputs": [],
   "source": [
    "def expérience():\n",
    "    canards = list(range(1,30+1))\n",
    "    survivants = 30\n",
    "    fusils = np.random.choice(canards, 30, replace = True)\n",
    "    for f in fusils :\n",
    "        if f in canards :\n",
    "            canards.remove(f)\n",
    "            survivants -= 1\n",
    "    return survivants"
   ]
  },
  {
   "cell_type": "code",
   "execution_count": 16,
   "id": "2fd3af01",
   "metadata": {},
   "outputs": [],
   "source": [
    "def exo3(n):\n",
    "    total = 0\n",
    "    for c in range(n):\n",
    "        total += expérience()\n",
    "    return total/n"
   ]
  },
  {
   "cell_type": "code",
   "execution_count": 17,
   "id": "f2381608",
   "metadata": {},
   "outputs": [
    {
     "name": "stdout",
     "output_type": "stream",
     "text": [
      "10.76\n"
     ]
    }
   ],
   "source": [
    "print(exo3(200))"
   ]
  },
  {
   "cell_type": "markdown",
   "id": "6a9f6a76",
   "metadata": {},
   "source": [
    "## Exercice 4"
   ]
  },
  {
   "cell_type": "code",
   "execution_count": 19,
   "id": "306c5b78",
   "metadata": {},
   "outputs": [],
   "source": [
    "def exo4():\n",
    "    X = []\n",
    "    Y = []\n",
    "    for i in range(100):\n",
    "        i = i/100\n",
    "        X.append(i)\n",
    "        newy = 1/2 + ((math.sin((3*math.pi/2)+4*i*math.pi))/2)\n",
    "        if newy < 0 :\n",
    "            Y.append(0)\n",
    "        else :\n",
    "            Y.append(newy)\n",
    "    plt.figure()\n",
    "    plt.plot(X, Y)\n",
    "    plt.xlabel(\"y\")\n",
    "    plt.ylabel(\"x\")\n",
    "    plt.show"
   ]
  },
  {
   "cell_type": "code",
   "execution_count": 20,
   "id": "e7dbe549",
   "metadata": {},
   "outputs": [
    {
     "data": {
      "image/png": "[encoded data removed]",
      "text/plain": [
       "<Figure size 432x288 with 1 Axes>"
      ]
     },
     "metadata": {
      "needs_background": "light"
     },
     "output_type": "display_data"
    }
   ],
   "source": [
    "exo4()"
   ]
  },
  {
   "cell_type": "code",
   "execution_count": null,
   "id": "fc48948d",
   "metadata": {},
   "outputs": [],
   "source": []
  },
  {
   "cell_type": "code",
   "execution_count": null,
   "id": "a18dc6c7",
   "metadata": {},
   "outputs": [],
   "source": []
  }
 ],
 "metadata": {
  "kernelspec": {
   "display_name": "Python 3 (ipykernel)",
   "language": "python",
   "name": "python3"
  },
  "language_info": {
   "codemirror_mode": {
    "name": "ipython",
    "version": 3
   },
   "file_extension": ".py",
   "mimetype": "text/x-python",
   "name": "python",
   "nbconvert_exporter": "python",
   "pygments_lexer": "ipython3",
   "version": "3.8.10"
  }
 },
 "nbformat": 4,
 "nbformat_minor": 5
}
