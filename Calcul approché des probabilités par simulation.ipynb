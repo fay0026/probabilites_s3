{
 "cells": [
  {
   "cell_type": "code",
   "execution_count": 1,
   "id": "b41e89a0",
   "metadata": {},
   "outputs": [
    {
     "name": "stdout",
     "output_type": "stream",
     "text": [
      "(4, 1)\n"
     ]
    }
   ],
   "source": [
    "import random\n",
    "def jet2d():\n",
    "  de1 = random.choice([1,2,3,4,5,6])\n",
    "  de2 = random.choice([1,2,3,4,5,6])\n",
    "  return (de1,de2)\n",
    "realisation = jet2d()\n",
    "print(realisation)"
   ]
  },
  {
   "cell_type": "code",
   "execution_count": 2,
   "id": "ce83855b",
   "metadata": {},
   "outputs": [
    {
     "name": "stdout",
     "output_type": "stream",
     "text": [
      "False\n"
     ]
    }
   ],
   "source": [
    "def testA(des):\n",
    "  d1 = des[0]\n",
    "  d2 = des[1]\n",
    "  res = (d1 == d2 or d2 == d1 + 1 or d1 == d2+1)\n",
    "  return res\n",
    "\n",
    "resTest = testA(realisation)\n",
    "\n",
    "print(resTest)"
   ]
  },
  {
   "cell_type": "code",
   "execution_count": 3,
   "id": "20dbd6ed",
   "metadata": {},
   "outputs": [
    {
     "name": "stdout",
     "output_type": "stream",
     "text": [
      "Estimation de la probabilité : 0.465\n"
     ]
    }
   ],
   "source": [
    "compteur = 0\n",
    "for i in range(1000):\n",
    "  res = testA(jet2d())\n",
    "  if res == True :\n",
    "    compteur += 1\n",
    "print(\"Estimation de la probabilité : {}\".format(compteur/1000))"
   ]
  },
  {
   "cell_type": "code",
   "execution_count": 4,
   "id": "1ee05453",
   "metadata": {},
   "outputs": [],
   "source": [
    "def simulrepExemple(n):\n",
    "    compteur = 0\n",
    "    for s in range(n):\n",
    "        res = testA(jet2d())\n",
    "        if res == True :\n",
    "            compteur += 1\n",
    "    return compteur/n"
   ]
  },
  {
   "cell_type": "code",
   "execution_count": 5,
   "id": "cf354c00",
   "metadata": {},
   "outputs": [
    {
     "name": "stdout",
     "output_type": "stream",
     "text": [
      "0.4\n",
      "0.42\n",
      "0.436\n",
      "0.4389\n",
      "0.44422\n",
      "0.444466\n"
     ]
    }
   ],
   "source": [
    "print(simulrepExemple(10))\n",
    "print(simulrepExemple(100))\n",
    "print(simulrepExemple(1000))\n",
    "print(simulrepExemple(10000))\n",
    "print(simulrepExemple(100000))\n",
    "print(simulrepExemple(1000000))"
   ]
  },
  {
   "cell_type": "code",
   "execution_count": 6,
   "id": "a05b6ed6",
   "metadata": {},
   "outputs": [],
   "source": [
    "def convergence(nmax):\n",
    "    compteur = 0\n",
    "    retour = []\n",
    "    for s in range(nmax):\n",
    "        res = testA(jet2d())\n",
    "        if res == True :\n",
    "            compteur += 1\n",
    "        retour.append(compteur/(s+1))\n",
    "    return retour"
   ]
  },
  {
   "cell_type": "code",
   "execution_count": 7,
   "id": "0ecd31ba",
   "metadata": {},
   "outputs": [
    {
     "name": "stdout",
     "output_type": "stream",
     "text": [
      "[0.0, 0.0, 0.0, 0.0, 0.0, 0.0, 0.0, 0.0, 0.1111111111111111, 0.1]\n"
     ]
    }
   ],
   "source": [
    "print(convergence(10))"
   ]
  },
  {
   "cell_type": "code",
   "execution_count": 8,
   "id": "5d42102d",
   "metadata": {},
   "outputs": [
    {
     "data": {
      "image/png": "[encoded data removed]",
      "text/plain": [
       "<Figure size 432x288 with 1 Axes>"
      ]
     },
     "metadata": {
      "needs_background": "light"
     },
     "output_type": "display_data"
    }
   ],
   "source": [
    "import matplotlib.pyplot as plt\n",
    "N = 1000\n",
    "x = list(range(1,N+1))\n",
    "y = convergence(N)\n",
    "plt.figure()\n",
    "plt.plot(x,y)\n",
    "plt.xlabel(\"Nombre de répétitions\")\n",
    "plt.ylabel(\"Probabilité estimée\")\n",
    "plt.title(\"Évolution de l'estimation de la probabilité en fonction du nombre de répétitions de l'expérience aléatoire\")\n",
    "plt.show()"
   ]
  },
  {
   "cell_type": "code",
   "execution_count": 9,
   "id": "1176ebc6",
   "metadata": {},
   "outputs": [],
   "source": [
    "import itertools"
   ]
  },
  {
   "cell_type": "code",
   "execution_count": 10,
   "id": "5e6ef2f8",
   "metadata": {},
   "outputs": [],
   "source": [
    "def chapeaux(n):\n",
    "    #hatl means hat list\n",
    "    hatl = []\n",
    "    for hat in range(n) :\n",
    "        hatl.append(hat)\n",
    "    #print(hatl)\n",
    "    issues = list(itertools.permutations(hatl, n))\n",
    "    #total_wrong is for the total of every wrong hats\n",
    "    total_wrong = 0\n",
    "    for issue in issues :\n",
    "        #print(issue)\n",
    "        #wrong is used to check if every hat is indeed wrong\n",
    "        wrong = True\n",
    "        #person is used to compare the hat's number with the person's number\n",
    "        person = 0\n",
    "        for h in issue :\n",
    "            #if the hat has the same number as the person, it's his\n",
    "            if person == h :\n",
    "                wrong = False\n",
    "            person += 1\n",
    "        if wrong == True :\n",
    "            total_wrong += 1\n",
    "    return total_wrong/len(issues)"
   ]
  },
  {
   "cell_type": "code",
   "execution_count": 11,
   "id": "641bd8c3",
   "metadata": {},
   "outputs": [
    {
     "name": "stdout",
     "output_type": "stream",
     "text": [
      "0.3678794642857143\n"
     ]
    }
   ],
   "source": [
    "print(chapeaux(10))"
   ]
  },
  {
   "cell_type": "code",
   "execution_count": 12,
   "id": "a75eb9d9",
   "metadata": {},
   "outputs": [],
   "source": [
    "def chapeauchapeau(n, nrep):\n",
    "    proba = 0\n",
    "    sample = []\n",
    "    for s in range(n):\n",
    "        sample.append(s)\n",
    "    #print(sample)\n",
    "    for c in range(nrep):\n",
    "        hats = random.sample(sample, n)\n",
    "        #wrong is used to check if every hat is indeed wrong\n",
    "        wrong = True\n",
    "        #person is used to compare the hat's number with the person's number\n",
    "        person = 0\n",
    "        for h in hats :\n",
    "            #if the hat has the same number as the person, it's his\n",
    "            if person == h :\n",
    "                wrong = False\n",
    "            person += 1\n",
    "        if wrong == True :\n",
    "            proba += 1\n",
    "    return proba/nrep"
   ]
  },
  {
   "cell_type": "code",
   "execution_count": 13,
   "id": "63c5abd2",
   "metadata": {},
   "outputs": [
    {
     "name": "stdout",
     "output_type": "stream",
     "text": [
      "0.372\n"
     ]
    }
   ],
   "source": [
    "print(chapeauchapeau(6, 10000))"
   ]
  },
  {
   "cell_type": "code",
   "execution_count": 14,
   "id": "7dd97a8e",
   "metadata": {},
   "outputs": [],
   "source": [
    "def dés120multi():\n",
    "    multiple = False\n",
    "    possibilités = []\n",
    "    for choix in range(120):\n",
    "        possibilités.append(choix)\n",
    "    de1 = random.choice(possibilités)\n",
    "    de2 = random.choice(possibilités)\n",
    "    de3 = random.choice(possibilités)\n",
    "    de4 = random.choice(possibilités)\n",
    "    #S'il est multiple de 21\n",
    "    if ((de1%21 == 0) or (de2%21 == 0) or (de3%21 == 0) or (de4%21 == 0)) :\n",
    "        multiple = True\n",
    "    #S'il y a deux multiples de 9\n",
    "    if (((de1+de2)%9==0 and (de3+de4)%9==0) or ((de1+de3)%9==0 and (de2+de4)%9==0) or ((de1+de4)%9==0 and (de3+de2)%9==0)):\n",
    "        multiple = True\n",
    "    return multiple"
   ]
  },
  {
   "cell_type": "code",
   "execution_count": 15,
   "id": "6d6645a1",
   "metadata": {},
   "outputs": [],
   "source": [
    "def dés120paires():\n",
    "    paires = False\n",
    "    possibilités = []\n",
    "    for choix in range(120):\n",
    "        possibilités.append(choix)\n",
    "    de1 = random.choice(possibilités)\n",
    "    de2 = random.choice(possibilités)\n",
    "    de3 = random.choice(possibilités)\n",
    "    de4 = random.choice(possibilités)\n",
    "    #S'il y a deux paires\n",
    "    if ((de1%9 == 0 and de2%9 == 0) or (de1%9 == 0 and de3%9 == 0) or (de1%9 == 0 and de4%9 == 0) or (de2%9 == 0 and de3%9 == 0) or (de2%9 == 0 and de4%9 == 0) or (de3%9 == 0 and de4%9 == 0)):\n",
    "        paires = True\n",
    "    return paires"
   ]
  },
  {
   "cell_type": "code",
   "execution_count": 16,
   "id": "a20fec28",
   "metadata": {},
   "outputs": [],
   "source": [
    "def probaMulti(n):\n",
    "    proba = 0\n",
    "    compteur = 0\n",
    "    for s in range(n):\n",
    "        if dés120multi() == True :\n",
    "            compteur += 1\n",
    "    proba = compteur/n\n",
    "    return proba"
   ]
  },
  {
   "cell_type": "code",
   "execution_count": 17,
   "id": "5d601aaa",
   "metadata": {},
   "outputs": [],
   "source": [
    "def probaPaires(n):\n",
    "    proba = 0\n",
    "    compteur = 0\n",
    "    for s in range(n):\n",
    "        if dés120paires() == True :\n",
    "            compteur += 1\n",
    "    proba = compteur/n\n",
    "    return proba"
   ]
  },
  {
   "cell_type": "code",
   "execution_count": 18,
   "id": "6b935309",
   "metadata": {},
   "outputs": [
    {
     "name": "stdout",
     "output_type": "stream",
     "text": [
      "La proba d'avoir un multiple de 21 ou minimum deux multiples de 9 se rapproche de :\n",
      "0.2095\n",
      "La proba d'avoir deux paires se rapproche de : \n",
      "0.0693\n"
     ]
    }
   ],
   "source": [
    "print(\"La proba d'avoir un multiple de 21 ou minimum deux multiples de 9 se rapproche de :\")\n",
    "print(probaMulti(10000))\n",
    "print(\"La proba d'avoir deux paires se rapproche de : \")\n",
    "print(probaPaires(10000))"
   ]
  },
  {
   "cell_type": "code",
   "execution_count": 19,
   "id": "2feac4fb",
   "metadata": {},
   "outputs": [],
   "source": [
    "def tirage(n):\n",
    "    jours = range(1, 365)\n",
    "    dates = []\n",
    "    for date in range(n):\n",
    "        dates.append(random.choice(jours))\n",
    "    return dates"
   ]
  },
  {
   "cell_type": "code",
   "execution_count": 20,
   "id": "e3e725bd",
   "metadata": {},
   "outputs": [
    {
     "name": "stdout",
     "output_type": "stream",
     "text": [
      "[120, 284, 54, 119, 111]\n"
     ]
    }
   ],
   "source": [
    "print(tirage(5))"
   ]
  },
  {
   "cell_type": "code",
   "execution_count": 21,
   "id": "e0135007",
   "metadata": {},
   "outputs": [],
   "source": [
    "def test(x):\n",
    "    retour = False\n",
    "    indI = 0\n",
    "    #print(x)\n",
    "    for i in range(len(x)):\n",
    "        indI += 1\n",
    "        indJ = 0\n",
    "        for j in range(len(x)):\n",
    "            indJ += 1\n",
    "            if (x[i] == x[j]) and (indI != indJ) :\n",
    "                retour = True\n",
    "                 #print('here')\n",
    "    return retour"
   ]
  },
  {
   "cell_type": "code",
   "execution_count": 22,
   "id": "f1416e20",
   "metadata": {},
   "outputs": [],
   "source": [
    "def probA(n, nrep):\n",
    "    count = 0\n",
    "    for r in range(nrep):\n",
    "        experience = tirage(n)\n",
    "        if test(experience) == True :\n",
    "            count += 1\n",
    "            #print('Plus one')\n",
    "    return count/nrep"
   ]
  },
  {
   "cell_type": "code",
   "execution_count": 23,
   "id": "063544ab",
   "metadata": {},
   "outputs": [
    {
     "name": "stdout",
     "output_type": "stream",
     "text": [
      "0.114\n"
     ]
    }
   ],
   "source": [
    "print(probA(10, 1000))"
   ]
  },
  {
   "cell_type": "code",
   "execution_count": 24,
   "id": "2d42019e",
   "metadata": {},
   "outputs": [
    {
     "name": "stdout",
     "output_type": "stream",
     "text": [
      "0.007\n"
     ]
    }
   ],
   "source": [
    "print(probA(3, 1000))"
   ]
  },
  {
   "cell_type": "code",
   "execution_count": 25,
   "id": "c3f39220",
   "metadata": {},
   "outputs": [
    {
     "name": "stdout",
     "output_type": "stream",
     "text": [
      "0.561\n"
     ]
    }
   ],
   "source": [
    "print(probA(24, 1000))"
   ]
  },
  {
   "cell_type": "markdown",
   "id": "a0a3fac7",
   "metadata": {},
   "source": [
    "La valeur à laquelle la probabilité que deux personnes aient la même date d'anniversaire corresponds à 24 personnes. Ce qui est assez proche du nombre de jours dans un mois. La probabilité de 90% peut être atteinte à partir de 41 personnes."
   ]
  },
  {
   "cell_type": "code",
   "execution_count": 26,
   "id": "7a222e19",
   "metadata": {},
   "outputs": [
    {
     "name": "stdout",
     "output_type": "stream",
     "text": [
      "0.912\n"
     ]
    }
   ],
   "source": [
    "print(probA(41, 1000))"
   ]
  },
  {
   "cell_type": "code",
   "execution_count": 27,
   "id": "88118030",
   "metadata": {},
   "outputs": [],
   "source": [
    "def créaPoint():\n",
    "    return [random.random(), random.random()]"
   ]
  },
  {
   "cell_type": "code",
   "execution_count": 28,
   "id": "0d21bc8c",
   "metadata": {},
   "outputs": [
    {
     "name": "stdout",
     "output_type": "stream",
     "text": [
      "[0.33202678164561794, 0.2021274454648343]\n"
     ]
    }
   ],
   "source": [
    "print(créaPoint())"
   ]
  },
  {
   "cell_type": "markdown",
   "id": "e9b33241",
   "metadata": {},
   "source": [
    "La probabilité qu'un point soit dans le cercle inscrit dans un carré quelconque à partie de coordonnées aléatoires se rapprochents de 80%."
   ]
  },
  {
   "cell_type": "code",
   "execution_count": 94,
   "id": "ea1bcd55",
   "metadata": {},
   "outputs": [],
   "source": [
    "def testPi(nb):\n",
    "    point = []\n",
    "    vrais = 0\n",
    "    convergence = []\n",
    "    pointsX = []\n",
    "    pointsY = []\n",
    "    for i in range(nb):\n",
    "        point = créaPoint()\n",
    "        pointsX.append(point[0])\n",
    "        pointsY.append(point[1])\n",
    "        if (point[0]**2 + point[1]**2) <= 1:\n",
    "            vrais += 1\n",
    "        #On multiplie Pi par 4, suivant le rapport cercle/carré\n",
    "        convergence.append((vrais/(i+1))*4)\n",
    "    plt.scatter(pointsX, pointsY)\n",
    "    plt.figure()\n",
    "    x = list(range(1, nb+1))\n",
    "    y = convergence\n",
    "    plt.plot(x, y)\n",
    "    plt.xlabel(\"Nombre de points\")\n",
    "    plt.ylabel(\"Estimation de Pi\")\n",
    "    plt.show\n",
    "    print((vrais/(i+1))*4)"
   ]
  },
  {
   "cell_type": "code",
   "execution_count": 96,
   "id": "7781203c",
   "metadata": {},
   "outputs": [
    {
     "name": "stdout",
     "output_type": "stream",
     "text": [
      "3.1436\n"
     ]
    },
    {
     "data": {
      "image/png": "[encoded data removed]",
      "text/plain": [
       "<Figure size 432x288 with 1 Axes>"
      ]
     },
     "metadata": {
      "needs_background": "light"
     },
     "output_type": "display_data"
    },
    {
     "data": {
      "image/png": "[encoded data removed]",
      "text/plain": [
       "<Figure size 432x288 with 1 Axes>"
      ]
     },
     "metadata": {
      "needs_background": "light"
     },
     "output_type": "display_data"
    }
   ],
   "source": [
    "testPi(10000)"
   ]
  },
  {
   "cell_type": "code",
   "execution_count": null,
   "id": "0196aaa0",
   "metadata": {},
   "outputs": [],
   "source": []
  },
  {
   "cell_type": "code",
   "execution_count": 70,
   "id": "1c0f023b",
   "metadata": {},
   "outputs": [
    {
     "data": {
      "image/png": "[encoded data removed]",
      "text/plain": [
       "<Figure size 432x288 with 1 Axes>"
      ]
     },
     "metadata": {
      "needs_background": "light"
     },
     "output_type": "display_data"
    }
   ],
   "source": [
    "import matplotlib.pyplot as plt\n",
    "N = 100\n",
    "x = list(range(1,N+1))\n",
    "y = convergence(N)\n",
    "plt.figure()\n",
    "plt.plot(x,y)\n",
    "plt.xlabel(\"Nombre de répétitions\")\n",
    "plt.ylabel(\"Probabilité estimée\")\n",
    "plt.title(\"Évolution de l'estimation de la probabilité en fonction du nombre de répétitions de l'expérience aléatoire\")\n",
    "plt.show()"
   ]
  },
  {
   "cell_type": "code",
   "execution_count": null,
   "id": "f154cb3f",
   "metadata": {},
   "outputs": [],
   "source": []
  },
  {
   "cell_type": "code",
   "execution_count": null,
   "id": "bf71f90f",
   "metadata": {},
   "outputs": [],
   "source": []
  }
 ],
 "metadata": {
  "kernelspec": {
   "display_name": "Python 3 (ipykernel)",
   "language": "python",
   "name": "python3"
  },
  "language_info": {
   "codemirror_mode": {
    "name": "ipython",
    "version": 3
   },
   "file_extension": ".py",
   "mimetype": "text/x-python",
   "name": "python",
   "nbconvert_exporter": "python",
   "pygments_lexer": "ipython3",
   "version": "3.8.10"
  }
 },
 "nbformat": 4,
 "nbformat_minor": 5
}
