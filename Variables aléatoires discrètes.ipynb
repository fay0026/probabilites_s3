{
 "cells": [
  {
   "cell_type": "markdown",
   "id": "7da22167",
   "metadata": {},
   "source": [
    "Ci dessous, nous créons une liste de toutes les issues possibles du jeu."
   ]
  },
  {
   "cell_type": "code",
   "execution_count": 1,
   "id": "f048f7ca",
   "metadata": {},
   "outputs": [
    {
     "name": "stdout",
     "output_type": "stream",
     "text": [
      "[2, 3, 4, 5, 6, 7, 3, 4, 5, 6, 7, 8, 4, 5, 6, 7, 8, 9, 5, 6, 7, 8, 9, 10, 6, 7, 8, 9, 10, 11, 7, 8, 9, 10, 11, 12]\n"
     ]
    }
   ],
   "source": [
    "gains = []\n",
    "for de1 in range(1,6+1) :\n",
    "    for de2 in range(1,6+1) :\n",
    "        gains.append(de1+de2)\n",
    "print(gains)"
   ]
  },
  {
   "cell_type": "markdown",
   "id": "b7e1ea33",
   "metadata": {},
   "source": [
    "Ci dessous, nous créons une liste de toutes les issues différentes possibles de l'évènement. Nous comptons ensuite le nombre d'issues égales à l'issue k, que nous convertissons en fraction du total."
   ]
  },
  {
   "cell_type": "code",
   "execution_count": 2,
   "id": "10d0400f",
   "metadata": {},
   "outputs": [
    {
     "name": "stdout",
     "output_type": "stream",
     "text": [
      "[(2, 0.027777777777777776), (3, 0.05555555555555555), (4, 0.08333333333333333), (5, 0.1111111111111111), (6, 0.1388888888888889), (7, 0.16666666666666666), (8, 0.1388888888888889), (9, 0.1111111111111111), (10, 0.08333333333333333), (11, 0.05555555555555555), (12, 0.027777777777777776)]\n"
     ]
    }
   ],
   "source": [
    "import numpy as np\n",
    "omegax = list(range(2,12+1))\n",
    "loi = []\n",
    "for k in omegax:\n",
    "    pk = gains.count(k) / len(gains)\n",
    "    loi.append((k,pk))\n",
    "print(loi)"
   ]
  },
  {
   "cell_type": "markdown",
   "id": "751c4720",
   "metadata": {},
   "source": [
    "Ci dessous, nous réutilisons la liste des probabilités des évènements différents. Nous les additionnons ensuite pour créer une moyenne des issues, ou une espérance de gains au jeu."
   ]
  },
  {
   "cell_type": "code",
   "execution_count": 3,
   "id": "4cac28f1",
   "metadata": {},
   "outputs": [
    {
     "name": "stdout",
     "output_type": "stream",
     "text": [
      "6.999999999999999\n"
     ]
    }
   ],
   "source": [
    "esperance = 0\n",
    "for  (k,pk) in loi:\n",
    "    esperance += k * pk\n",
    "print(esperance)"
   ]
  },
  {
   "cell_type": "markdown",
   "id": "9ffe8767",
   "metadata": {},
   "source": [
    "Ci dessous, pour chaque issue et sa probabilité, on ajoute l'issue au carré multiplié par sa probabilité à un total, que nous soustrayions finalement par l'espérance au carré. Ce qui nous donne un taux de variance parmis les issues possibles."
   ]
  },
  {
   "cell_type": "code",
   "execution_count": 4,
   "id": "3364ceca",
   "metadata": {},
   "outputs": [
    {
     "name": "stdout",
     "output_type": "stream",
     "text": [
      "5.833333333333336\n"
     ]
    }
   ],
   "source": [
    "variance = 0\n",
    "for (k,pk) in loi:\n",
    "    variance = variance + (k ** 2) * pk\n",
    "variance = variance - esperance ** 2\n",
    "print(variance)"
   ]
  },
  {
   "cell_type": "code",
   "execution_count": 5,
   "id": "9b09a8e1",
   "metadata": {},
   "outputs": [],
   "source": [
    "import random\n",
    "\n",
    "def simulation_experience():\n",
    "    return random.choices([1, 2, 3, 4, 5, 6], k=10)"
   ]
  },
  {
   "cell_type": "code",
   "execution_count": 6,
   "id": "0d10d9f4",
   "metadata": {},
   "outputs": [],
   "source": [
    "def fun_X(des):\n",
    "    return sum(des)"
   ]
  },
  {
   "cell_type": "code",
   "execution_count": 7,
   "id": "7728893f",
   "metadata": {},
   "outputs": [],
   "source": [
    "def simulation_repetee(exp, X, nrep):\n",
    "    return [X(exp()) for _ in range(nrep)]"
   ]
  },
  {
   "cell_type": "code",
   "execution_count": 8,
   "id": "50610193",
   "metadata": {},
   "outputs": [],
   "source": [
    "import random\n",
    "import numpy"
   ]
  },
  {
   "cell_type": "code",
   "execution_count": 9,
   "id": "ce1d96a4",
   "metadata": {},
   "outputs": [],
   "source": [
    "def estimation_loi(valeurs_obtenues, valeurs_possibles):\n",
    "  # Ensemble des valeurs différentes possibles\n",
    "  # prises par la variable aléatoire\n",
    "  omegax = valeurs_possibles\n",
    "  # On calcule ensuite le nombre de fois où chaque\n",
    "  # valeur de Omega_X apparait dans l'ensemble des valeurs \n",
    "  # que l'on divise par le nombre de répétitions (i.e. le nombre de valeurs)\n",
    "  res = []\n",
    "  for k in omegax :\n",
    "      res.append((k, valeurs_obtenues.count(k) / len(valeurs_obtenues)))\n",
    "  return res"
   ]
  },
  {
   "cell_type": "code",
   "execution_count": 10,
   "id": "6cd4b8d6",
   "metadata": {},
   "outputs": [
    {
     "name": "stdout",
     "output_type": "stream",
     "text": [
      "[(10, 0.0), (11, 0.0), (12, 0.0), (13, 0.0), (14, 0.0), (15, 0.001), (16, 0.0), (17, 0.0), (18, 0.0), (19, 0.001), (20, 0.0), (21, 0.0), (22, 0.007), (23, 0.007), (24, 0.012), (25, 0.017), (26, 0.018), (27, 0.023), (28, 0.034), (29, 0.035), (30, 0.046), (31, 0.066), (32, 0.059), (33, 0.065), (34, 0.075), (35, 0.059), (36, 0.082), (37, 0.085), (38, 0.053), (39, 0.063), (40, 0.04), (41, 0.038), (42, 0.031), (43, 0.022), (44, 0.021), (45, 0.014), (46, 0.01), (47, 0.008), (48, 0.004), (49, 0.002), (50, 0.0), (51, 0.001), (52, 0.0), (53, 0.001), (54, 0.0), (55, 0.0), (56, 0.0), (57, 0.0), (58, 0.0), (59, 0.0), (60, 0.0)]\n"
     ]
    }
   ],
   "source": [
    "valeurs_simulees = simulation_repetee(simulation_experience, fun_X, 1000)\n",
    "loi = estimation_loi(valeurs_simulees, list(range(10,60+1)))\n",
    "print(loi)"
   ]
  },
  {
   "cell_type": "code",
   "execution_count": 11,
   "id": "aa7c8f93",
   "metadata": {},
   "outputs": [],
   "source": [
    "import matplotlib\n",
    "import matplotlib.pyplot as plt"
   ]
  },
  {
   "cell_type": "code",
   "execution_count": 12,
   "id": "66b66d7d",
   "metadata": {},
   "outputs": [
    {
     "data": {
      "image/png": "[encoded data removed]",
      "text/plain": [
       "<Figure size 432x288 with 1 Axes>"
      ]
     },
     "metadata": {
      "needs_background": "light"
     },
     "output_type": "display_data"
    }
   ],
   "source": [
    "x = []\n",
    "y = []\n",
    "for (k,pk) in loi :\n",
    "  x.append(k)\n",
    "  y.append(pk)\n",
    "plt.figure()\n",
    "plt.bar(x,height = y, width = 0.2)\n",
    "plt.xlabel(\"k\")\n",
    "plt.ylabel(\"P(X=k)\")\n",
    "plt.show()"
   ]
  },
  {
   "cell_type": "code",
   "execution_count": 13,
   "id": "78f8a530",
   "metadata": {},
   "outputs": [],
   "source": [
    "def estimation_loi(valeurs_obtenues, valeurs_possibles = None):\n",
    "  # On détermine Omega_X\n",
    "  if valeurs_possibles is None :\n",
    "    omegax = numpy.unique(valeurs_obtenues)\n",
    "  else :\n",
    "    omegax = valeurs_possibles\n",
    "  # On calcule ensuite le nombre de fois où chaque\n",
    "  # valeur de Omega_X apparait dans l'ensemble des valeurs \n",
    "  # que l'on divise par le nombre de répétitions (i.e. le nombre de valeurs)\n",
    "  res = []\n",
    "  for k in omegax :\n",
    "      res.append((k, valeurs_obtenues.count(k) / len(valeurs_obtenues)))\n",
    "  return res"
   ]
  },
  {
   "cell_type": "code",
   "execution_count": 14,
   "id": "79fa20cd",
   "metadata": {},
   "outputs": [
    {
     "name": "stdout",
     "output_type": "stream",
     "text": [
      "[(14, 0.0001), (15, 0.0001), (16, 0.0001), (17, 0.0001), (18, 0.0007), (19, 0.0007), (20, 0.0016), (21, 0.0031), (22, 0.0039), (23, 0.0064), (24, 0.0105), (25, 0.013), (26, 0.0182), (27, 0.0245), (28, 0.0356), (29, 0.0412), (30, 0.0545), (31, 0.0498), (32, 0.0644), (33, 0.0696), (34, 0.0725), (35, 0.0745), (36, 0.0738), (37, 0.0663), (38, 0.0631), (39, 0.0548), (40, 0.0461), (41, 0.0416), (42, 0.0311), (43, 0.0227), (44, 0.0193), (45, 0.0126), (46, 0.0095), (47, 0.0057), (48, 0.003), (49, 0.0029), (50, 0.001), (51, 0.0008), (52, 0.0004), (53, 0.0001), (54, 0.0001)]\n"
     ]
    }
   ],
   "source": [
    "valeurs_simulees = simulation_repetee(simulation_experience, fun_X, 10000)\n",
    "loi = estimation_loi(valeurs_simulees)\n",
    "print(loi)"
   ]
  },
  {
   "cell_type": "code",
   "execution_count": 15,
   "id": "81b27b35",
   "metadata": {},
   "outputs": [
    {
     "data": {
      "image/png": "[encoded data removed]",
      "text/plain": [
       "<Figure size 432x288 with 1 Axes>"
      ]
     },
     "metadata": {
      "needs_background": "light"
     },
     "output_type": "display_data"
    }
   ],
   "source": [
    "x = []\n",
    "y = []\n",
    "for (k,pk) in loi :\n",
    "  x.append(k)\n",
    "  y.append(pk)\n",
    "plt.figure()\n",
    "plt.bar(x,height = y, width = 0.2)\n",
    "plt.xlabel(\"k\")\n",
    "plt.ylabel(\"P(X=k)\")\n",
    "plt.show()"
   ]
  },
  {
   "cell_type": "markdown",
   "id": "cf43ba06",
   "metadata": {},
   "source": [
    "# Exercices"
   ]
  },
  {
   "cell_type": "markdown",
   "id": "b447c291",
   "metadata": {},
   "source": [
    "## 5000 simplifié"
   ]
  },
  {
   "cell_type": "markdown",
   "id": "3c7e85bc",
   "metadata": {},
   "source": [
    "Issues possibles"
   ]
  },
  {
   "cell_type": "code",
   "execution_count": 16,
   "id": "d1446aff",
   "metadata": {},
   "outputs": [],
   "source": [
    "def jet5des():\n",
    "    return random.choices([1, 2, 3, 4, 5, 6], k=5)"
   ]
  },
  {
   "cell_type": "markdown",
   "id": "4543d7e5",
   "metadata": {},
   "source": [
    "convertion en valeurs"
   ]
  },
  {
   "cell_type": "code",
   "execution_count": 17,
   "id": "2ee46a4d",
   "metadata": {},
   "outputs": [],
   "source": [
    "def valeurs(jet):\n",
    "    val = 0\n",
    "    for de in jet :\n",
    "        if de == 5 :\n",
    "            val+=50\n",
    "        elif de == 1 :\n",
    "            val+=100\n",
    "    return val"
   ]
  },
  {
   "cell_type": "markdown",
   "id": "288d0337",
   "metadata": {},
   "source": [
    "définition d'un jeu"
   ]
  },
  {
   "cell_type": "code",
   "execution_count": 18,
   "id": "ff018223",
   "metadata": {},
   "outputs": [],
   "source": [
    "def jeu():\n",
    "    des = jet5des()\n",
    "    return valeurs(des)"
   ]
  },
  {
   "cell_type": "markdown",
   "id": "1d993b40",
   "metadata": {},
   "source": [
    "Expériences répétées"
   ]
  },
  {
   "cell_type": "code",
   "execution_count": 19,
   "id": "4d8a3e2d",
   "metadata": {},
   "outputs": [],
   "source": [
    "def experience5000(nrep):\n",
    "    return [valeurs(jet5des()) for _ in range(nrep)]"
   ]
  },
  {
   "cell_type": "markdown",
   "id": "1a076a8f",
   "metadata": {},
   "source": [
    "loi de probabilité"
   ]
  },
  {
   "cell_type": "code",
   "execution_count": 20,
   "id": "4525d544",
   "metadata": {},
   "outputs": [],
   "source": [
    "def estimation_loi(résultats, valeurs_possibles = None):\n",
    "    # On détermine l'univers de X, ou les possibilités\n",
    "    if valeurs_possibles is None :\n",
    "        Possibilités = numpy.unique(résultats)\n",
    "    else :\n",
    "        Possibilités = valeurs_possibles\n",
    "        # On calcule ensuite le nombre de fois où chaque\n",
    "        # valeur de l'univers de X apparait dans l'ensemble des valeurs \n",
    "        # que l'on divise par le nombre de répétitions (i.e. le nombre de valeurs)\n",
    "    res = []\n",
    "    for p in Possibilités :\n",
    "        res.append((p, résultats.count(p) / len(résultats)))\n",
    "    return res"
   ]
  },
  {
   "cell_type": "markdown",
   "id": "82efb1d7",
   "metadata": {},
   "source": [
    "Espérance"
   ]
  },
  {
   "cell_type": "code",
   "execution_count": 21,
   "id": "d1dfe4e2",
   "metadata": {},
   "outputs": [],
   "source": [
    "def Esperance(loi) :\n",
    "    e = 0\n",
    "    for (k,pk) in loi:\n",
    "        e += k * pk\n",
    "    return e"
   ]
  },
  {
   "cell_type": "markdown",
   "id": "44f2af5e",
   "metadata": {},
   "source": [
    "Variance"
   ]
  },
  {
   "cell_type": "code",
   "execution_count": 22,
   "id": "77a5bf11",
   "metadata": {},
   "outputs": [],
   "source": [
    "def Variance(loi) :\n",
    "    v = 0\n",
    "    for (k,pk) in loi:\n",
    "        v = v + (k ** 2) * pk\n",
    "    v = v - esperance ** 2\n",
    "    return v"
   ]
  },
  {
   "cell_type": "markdown",
   "id": "26d857ff",
   "metadata": {},
   "source": [
    "Mise en forme"
   ]
  },
  {
   "cell_type": "code",
   "execution_count": 23,
   "id": "54000513",
   "metadata": {},
   "outputs": [],
   "source": [
    "def cinqmille(nbrep):\n",
    "    résultats = experience5000(nbrep)\n",
    "    loi = estimation_loi(résultats)\n",
    "    Esp = Esperance(loi)\n",
    "    Var = Variance(loi)\n",
    "    retour = {\n",
    "        'loi' : loi,\n",
    "        'E' : Esp,\n",
    "        'V' : Var\n",
    "    }\n",
    "    return retour"
   ]
  },
  {
   "cell_type": "code",
   "execution_count": 24,
   "id": "98c8bf1f",
   "metadata": {},
   "outputs": [
    {
     "name": "stdout",
     "output_type": "stream",
     "text": [
      "{'loi': [(0, 0.125), (50, 0.187), (100, 0.254), (150, 0.167), (200, 0.148), (250, 0.078), (300, 0.019), (350, 0.013), (400, 0.007), (450, 0.001), (500, 0.001)], 'E': 122.89999999999999, 'V': 22386.0}\n"
     ]
    }
   ],
   "source": [
    "print(cinqmille(1000))"
   ]
  },
  {
   "cell_type": "markdown",
   "id": "9601dde5",
   "metadata": {},
   "source": [
    "## Sanction pifométrique"
   ]
  },
  {
   "cell_type": "markdown",
   "id": "d53fab4f",
   "metadata": {},
   "source": [
    "Issues possibles"
   ]
  },
  {
   "cell_type": "code",
   "execution_count": 25,
   "id": "ca07f657",
   "metadata": {},
   "outputs": [],
   "source": [
    "def sanctions():\n",
    "    return np.random.choice(['gentil', 'méchant'], 13, p=[0.10,0.90])"
   ]
  },
  {
   "cell_type": "markdown",
   "id": "ff809ec9",
   "metadata": {},
   "source": [
    "convertion en correct"
   ]
  },
  {
   "cell_type": "code",
   "execution_count": 26,
   "id": "0fdc5240",
   "metadata": {},
   "outputs": [],
   "source": [
    "def correct(sanction):\n",
    "    c = 0\n",
    "    for s in sanction :\n",
    "        if s == 'gentil' :\n",
    "            c += 1\n",
    "    return c"
   ]
  },
  {
   "cell_type": "markdown",
   "id": "9543e177",
   "metadata": {},
   "source": [
    "définition d'un expérience"
   ]
  },
  {
   "cell_type": "code",
   "execution_count": 27,
   "id": "532b26c8",
   "metadata": {},
   "outputs": [],
   "source": [
    "def expérience():\n",
    "    s = sanctions()\n",
    "    return correct(s)"
   ]
  },
  {
   "cell_type": "markdown",
   "id": "4a25a870",
   "metadata": {},
   "source": [
    "Expériences répétées"
   ]
  },
  {
   "cell_type": "code",
   "execution_count": 28,
   "id": "89c334ba",
   "metadata": {},
   "outputs": [],
   "source": [
    "def répétitions(nrep):\n",
    "    return [correct(sanctions()) for _ in range(nrep)]"
   ]
  },
  {
   "cell_type": "markdown",
   "id": "dac2feae",
   "metadata": {},
   "source": [
    "loi de probabilité"
   ]
  },
  {
   "cell_type": "code",
   "execution_count": 29,
   "id": "d587cc2a",
   "metadata": {},
   "outputs": [],
   "source": [
    "def estimation_loi(résultats, valeurs_possibles = None):\n",
    "    # On détermine l'univers de X, ou les possibilités\n",
    "    if valeurs_possibles is None :\n",
    "        Possibilités = numpy.unique(résultats)\n",
    "    else :\n",
    "        Possibilités = valeurs_possibles\n",
    "        # On calcule ensuite le nombre de fois où chaque\n",
    "        # valeur de l'univers de X apparait dans l'ensemble des valeurs \n",
    "        # que l'on divise par le nombre de répétitions (i.e. le nombre de valeurs)\n",
    "    res = []\n",
    "    for p in Possibilités :\n",
    "        res.append((p, résultats.count(p) / len(résultats)))\n",
    "    return res"
   ]
  },
  {
   "cell_type": "markdown",
   "id": "1904f0a4",
   "metadata": {},
   "source": [
    "Espérance"
   ]
  },
  {
   "cell_type": "code",
   "execution_count": 30,
   "id": "1d574ea0",
   "metadata": {},
   "outputs": [],
   "source": [
    "def Esperance(loi) :\n",
    "    e = 0\n",
    "    for (k,pk) in loi:\n",
    "        e += k * pk\n",
    "    return e"
   ]
  },
  {
   "cell_type": "markdown",
   "id": "435af971",
   "metadata": {},
   "source": [
    "Variance"
   ]
  },
  {
   "cell_type": "code",
   "execution_count": 31,
   "id": "77a5bf11",
   "metadata": {},
   "outputs": [],
   "source": [
    "def Variance(loi, esp) :\n",
    "    v = 0\n",
    "    for (k,pk) in loi:\n",
    "        v = v + (k ** 2) * pk\n",
    "    v = v - esp ** 2\n",
    "    return v"
   ]
  },
  {
   "cell_type": "markdown",
   "id": "26d857ff",
   "metadata": {},
   "source": [
    "Mise en forme"
   ]
  },
  {
   "cell_type": "code",
   "execution_count": 32,
   "id": "54000513",
   "metadata": {},
   "outputs": [],
   "source": [
    "def pifométrique(nbrep):\n",
    "    résultats = répétitions(nbrep)\n",
    "    loi = estimation_loi(résultats, list(range(0,13+1)))\n",
    "    Esp = Esperance(loi)\n",
    "    Var = Variance(loi, Esp)\n",
    "    retour = {\n",
    "        'loi' : loi,\n",
    "        'E' : Esp,\n",
    "        'V' : Var\n",
    "    }\n",
    "    return retour"
   ]
  },
  {
   "cell_type": "code",
   "execution_count": 33,
   "id": "98c8bf1f",
   "metadata": {},
   "outputs": [
    {
     "name": "stdout",
     "output_type": "stream",
     "text": [
      "{'loi': [(0, 0.256), (1, 0.3616), (2, 0.2439), (3, 0.1016), (4, 0.0292), (5, 0.0067), (6, 0.0009), (7, 0.0001), (8, 0.0), (9, 0.0), (10, 0.0), (11, 0.0), (12, 0.0), (13, 0.0)], 'E': 1.3106, 'V': 1.20592764}\n"
     ]
    }
   ],
   "source": [
    "print(pifométrique(10000))"
   ]
  },
  {
   "cell_type": "code",
   "execution_count": null,
   "id": "c4723f1d",
   "metadata": {},
   "outputs": [],
   "source": []
  },
  {
   "cell_type": "markdown",
   "id": "4d0eb27a",
   "metadata": {},
   "source": [
    "Création de l'amphi"
   ]
  },
  {
   "cell_type": "code",
   "execution_count": 34,
   "id": "c887feff",
   "metadata": {},
   "outputs": [],
   "source": [
    "def créaAmphi():\n",
    "    amphi = []\n",
    "    for i in range(11):\n",
    "        amphi.append('gentil')\n",
    "    for i in range(99):\n",
    "        amphi.append('méchant')\n",
    "    return amphi"
   ]
  },
  {
   "cell_type": "markdown",
   "id": "73dfa60b",
   "metadata": {},
   "source": [
    "Issues possibles"
   ]
  },
  {
   "cell_type": "code",
   "execution_count": 35,
   "id": "153b6622",
   "metadata": {},
   "outputs": [],
   "source": [
    "def nSanctions(amphi):\n",
    "    sanctionnés = []\n",
    "    for i in range(13):\n",
    "        aléa = np.random.randint(0, len(amphi))\n",
    "        sanctionnés.append(amphi.pop(aléa))\n",
    "    return sanctionnés"
   ]
  },
  {
   "cell_type": "markdown",
   "id": "d38424b7",
   "metadata": {},
   "source": [
    "Réutilisation de correct"
   ]
  },
  {
   "cell_type": "markdown",
   "id": "edd97f80",
   "metadata": {},
   "source": [
    "Définition d'une expérience"
   ]
  },
  {
   "cell_type": "code",
   "execution_count": 36,
   "id": "2e3f2a41",
   "metadata": {},
   "outputs": [],
   "source": [
    "def nExpérience():\n",
    "    a = créaAmphi\n",
    "    s = nSanctions(a)\n",
    "    return correct(s)"
   ]
  },
  {
   "cell_type": "markdown",
   "id": "a21717cf",
   "metadata": {},
   "source": [
    "Expériences répétées"
   ]
  },
  {
   "cell_type": "code",
   "execution_count": 37,
   "id": "aa712517",
   "metadata": {},
   "outputs": [],
   "source": [
    "def nRépétitions(nrep):\n",
    "    return [correct(nSanctions(créaAmphi())) for _ in range(nrep)]"
   ]
  },
  {
   "cell_type": "markdown",
   "id": "30430577",
   "metadata": {},
   "source": [
    "Réutilisation de loi de proba, Espérance et Variance"
   ]
  },
  {
   "cell_type": "markdown",
   "id": "5442f3dd",
   "metadata": {},
   "source": [
    "Mise en forme"
   ]
  },
  {
   "cell_type": "code",
   "execution_count": 38,
   "id": "1b5fe7e2",
   "metadata": {},
   "outputs": [],
   "source": [
    "def newPifométrique(nbrep):\n",
    "    résultats = nRépétitions(nbrep)\n",
    "    loi = estimation_loi(résultats, list(range(0,11+1)))\n",
    "    Esp = Esperance(loi)\n",
    "    Var = Variance(loi, Esp)\n",
    "    retour = {\n",
    "        'loi' : loi,\n",
    "        'E' : Esp,\n",
    "        'V' : Var\n",
    "    }\n",
    "    return retour"
   ]
  },
  {
   "cell_type": "code",
   "execution_count": 39,
   "id": "671634a5",
   "metadata": {},
   "outputs": [
    {
     "name": "stdout",
     "output_type": "stream",
     "text": [
      "{'loi': [(0, 0.2341), (1, 0.3802), (2, 0.2578), (3, 0.1013), (4, 0.0232), (5, 0.003), (6, 0.0004), (7, 0.0), (8, 0.0), (9, 0.0), (10, 0.0), (11, 0.0)], 'E': 1.3098999999999998, 'V': 1.0678619900000008}\n"
     ]
    }
   ],
   "source": [
    "print(newPifométrique(10000))"
   ]
  },
  {
   "cell_type": "code",
   "execution_count": null,
   "id": "a99a40f5",
   "metadata": {},
   "outputs": [],
   "source": []
  },
  {
   "cell_type": "markdown",
   "id": "86643cf1",
   "metadata": {},
   "source": [
    "## Planche de Galton"
   ]
  },
  {
   "cell_type": "markdown",
   "id": "173cb4e6",
   "metadata": {},
   "source": [
    "définition d'une expérience"
   ]
  },
  {
   "cell_type": "code",
   "execution_count": 40,
   "id": "f6b29439",
   "metadata": {},
   "outputs": [],
   "source": [
    "def gExpérience(nbClous):\n",
    "    bille = 0\n",
    "    for c in range(nbClous):\n",
    "        aléa = np.random.randint(0,2)\n",
    "        bille += aléa\n",
    "    return bille"
   ]
  },
  {
   "cell_type": "markdown",
   "id": "9d36db56",
   "metadata": {},
   "source": [
    "expériences répétées"
   ]
  },
  {
   "cell_type": "code",
   "execution_count": 41,
   "id": "f218df6f",
   "metadata": {},
   "outputs": [],
   "source": [
    "def gRépétitions(nbRep, nbClous):\n",
    "    résultats = []\n",
    "    for i in range(nbRep):\n",
    "        résultats.append(gExpérience(nbClous))\n",
    "    return résultats"
   ]
  },
  {
   "cell_type": "markdown",
   "id": "84375df8",
   "metadata": {},
   "source": [
    "Mise en forme"
   ]
  },
  {
   "cell_type": "code",
   "execution_count": 42,
   "id": "d9890bea",
   "metadata": {},
   "outputs": [],
   "source": [
    "def gGalton(nbrep, nbClous):\n",
    "    résultats = gRépétitions(nbrep, nbClous)\n",
    "    loi = estimation_loi(résultats, list(range(0,nbClous+1)))\n",
    "    x = []\n",
    "    y = []\n",
    "    for (issue, pourcentage) in loi :\n",
    "        x.append(issue)\n",
    "        y.append(pourcentage)\n",
    "    plt.figure()\n",
    "    plt.bar(x, height = y, width = 0.5)\n",
    "    plt.xlabel(\"Issue\")\n",
    "    plt.ylabel(\"Poucentage\")\n",
    "    plt.show"
   ]
  },
  {
   "cell_type": "code",
   "execution_count": 43,
   "id": "5a0ab94f",
   "metadata": {},
   "outputs": [
    {
     "data": {
      "image/png": "[encoded data removed]",
      "text/plain": [
       "<Figure size 432x288 with 1 Axes>"
      ]
     },
     "metadata": {
      "needs_background": "light"
     },
     "output_type": "display_data"
    }
   ],
   "source": [
    "gGalton(100000, 5)"
   ]
  },
  {
   "cell_type": "code",
   "execution_count": 44,
   "id": "51237a60",
   "metadata": {},
   "outputs": [
    {
     "data": {
      "image/png": "[encoded data removed]",
      "text/plain": [
       "<Figure size 432x288 with 1 Axes>"
      ]
     },
     "metadata": {
      "needs_background": "light"
     },
     "output_type": "display_data"
    }
   ],
   "source": [
    "gGalton(1000000, 10)"
   ]
  },
  {
   "cell_type": "code",
   "execution_count": null,
   "id": "a199d465",
   "metadata": {},
   "outputs": [],
   "source": []
  },
  {
   "cell_type": "markdown",
   "id": "97f701ea",
   "metadata": {},
   "source": [
    "## Activité préparatoire"
   ]
  },
  {
   "cell_type": "markdown",
   "id": "0b864b42",
   "metadata": {},
   "source": [
    "### 0.1110432 et 0.8130119"
   ]
  },
  {
   "cell_type": "code",
   "execution_count": 45,
   "id": "16831559",
   "metadata": {},
   "outputs": [],
   "source": [
    "def rExperience(réel):\n",
    "    return réel == round(random.random(), 7)"
   ]
  },
  {
   "cell_type": "code",
   "execution_count": 46,
   "id": "bc599e40",
   "metadata": {},
   "outputs": [],
   "source": [
    "def rRépétitions(réel, nbrep):\n",
    "    résultats = []\n",
    "    for i in range(nbrep):\n",
    "        résultats.append(rExperience(réel))\n",
    "    return résultats"
   ]
  },
  {
   "cell_type": "code",
   "execution_count": 47,
   "id": "9eb9f384",
   "metadata": {},
   "outputs": [],
   "source": [
    "def rRéel(réel, nbrep):\n",
    "    résultats = rRépétitions(réel, nbrep)\n",
    "    loi = estimation_loi(résultats, [True, False])\n",
    "    return loi"
   ]
  },
  {
   "cell_type": "code",
   "execution_count": 48,
   "id": "c34812af",
   "metadata": {},
   "outputs": [
    {
     "name": "stdout",
     "output_type": "stream",
     "text": [
      "[(True, 1e-07), (False, 0.9999999)]\n"
     ]
    }
   ],
   "source": [
    "print(rRéel(0.1110432, 10000000))"
   ]
  },
  {
   "cell_type": "code",
   "execution_count": 49,
   "id": "67d3c054",
   "metadata": {},
   "outputs": [
    {
     "name": "stdout",
     "output_type": "stream",
     "text": [
      "[(True, 1e-07), (False, 0.9999999)]\n"
     ]
    }
   ],
   "source": [
    "print(rRéel(0.8130119, 10000000))"
   ]
  },
  {
   "cell_type": "markdown",
   "id": "79632887",
   "metadata": {},
   "source": [
    "### entre 0.5 et 0.8"
   ]
  },
  {
   "cell_type": "code",
   "execution_count": 50,
   "id": "e77d1861",
   "metadata": {},
   "outputs": [],
   "source": [
    "def uExperience(minu, maxu):\n",
    "    return minu < round(random.random(), 7) < maxu"
   ]
  },
  {
   "cell_type": "code",
   "execution_count": 51,
   "id": "3e8fefd9",
   "metadata": {},
   "outputs": [],
   "source": [
    "def uRépétitions(minu, maxu, nbrep):\n",
    "    résultats = []\n",
    "    for i in range(nbrep):\n",
    "        résultats.append(uExperience(minu, maxu))\n",
    "    return résultats"
   ]
  },
  {
   "cell_type": "code",
   "execution_count": 52,
   "id": "1ecab732",
   "metadata": {},
   "outputs": [],
   "source": [
    "def minUmaxU(minu, maxu, nbrep):\n",
    "    résultats = uRépétitions(minu, maxu, nbrep)\n",
    "    loi = estimation_loi(résultats, [True, False])\n",
    "    return loi"
   ]
  },
  {
   "cell_type": "code",
   "execution_count": 54,
   "id": "88799047",
   "metadata": {},
   "outputs": [
    {
     "name": "stdout",
     "output_type": "stream",
     "text": [
      "[(True, 0.2999696), (False, 0.7000304)]\n"
     ]
    }
   ],
   "source": [
    "print(minUmaxU(0.5,0.8,10000000))"
   ]
  },
  {
   "cell_type": "code",
   "execution_count": 58,
   "id": "1fe7ea81",
   "metadata": {},
   "outputs": [],
   "source": [
    "def proba_x(minu, maxu):\n",
    "    résultats = uRépétitions(minu, maxu, 1000000)\n",
    "    loi = estimation_loi(résultats, [True, False])\n",
    "    return loi[0][1]"
   ]
  },
  {
   "cell_type": "code",
   "execution_count": 59,
   "id": "f224b769",
   "metadata": {},
   "outputs": [
    {
     "name": "stdout",
     "output_type": "stream",
     "text": [
      "0.300107\n"
     ]
    }
   ],
   "source": [
    "print(proba_x(0.5,0.8))"
   ]
  },
  {
   "cell_type": "code",
   "execution_count": 60,
   "id": "5dc0e3d5",
   "metadata": {},
   "outputs": [
    {
     "name": "stdout",
     "output_type": "stream",
     "text": [
      "0.249561\n",
      "0.250457\n",
      "0.251057\n",
      "0.24881\n"
     ]
    }
   ],
   "source": [
    "print(proba_x(0,0.25))\n",
    "print(proba_x(0.25,0.5))\n",
    "print(proba_x(0.5,0.75))\n",
    "print(proba_x(0.75,1))"
   ]
  },
  {
   "cell_type": "code",
   "execution_count": 67,
   "id": "8d54009b",
   "metadata": {},
   "outputs": [],
   "source": [
    "def grapheComparaisonProbas(probas, noms):\n",
    "    ret = \"\"\n",
    "    if len(probas) != len(noms) :\n",
    "        ret = \"Les deux listes n'ont pas la même longueur\"\n",
    "    else :\n",
    "        x = []\n",
    "        y = []\n",
    "        for i in range(len(probas)) :\n",
    "            x.append(noms[i])\n",
    "            y.append(probas[i])\n",
    "        plt.figure()\n",
    "        plt.bar(x, height = y, width = 0.5)\n",
    "        plt.xlabel(\"noms\")\n",
    "        plt.ylabel(\"Probabilité\")\n",
    "        plt.show\n",
    "    return ret"
   ]
  },
  {
   "cell_type": "code",
   "execution_count": 68,
   "id": "cec572a8",
   "metadata": {},
   "outputs": [
    {
     "name": "stdout",
     "output_type": "stream",
     "text": [
      "\n"
     ]
    },
    {
     "data": {
      "image/png": "[encoded data removed]",
      "text/plain": [
       "<Figure size 432x288 with 1 Axes>"
      ]
     },
     "metadata": {
      "needs_background": "light"
     },
     "output_type": "display_data"
    }
   ],
   "source": [
    "rés = [proba_x(0,0.25),proba_x(0.25,0.5),proba_x(0.5,0.75),proba_x(0.75,1)]\n",
    "noms = [\"0 to 0.25\", \"0.25 to 0.5\", \"0.5 to 0.75\", \"0.75 to 1\"]\n",
    "print(grapheComparaisonProbas(rés, noms))"
   ]
  },
  {
   "cell_type": "code",
   "execution_count": 70,
   "id": "3191ea4c",
   "metadata": {},
   "outputs": [
    {
     "name": "stdout",
     "output_type": "stream",
     "text": [
      "Les deux listes n'ont pas la même longueur\n"
     ]
    }
   ],
   "source": [
    "rés = [proba_x(0,0.10),proba_x(0.25,0.45),proba_x(0.2,0.8),proba_x(0.75,1)]\n",
    "noms = [\"0 to 0.10\", \"0.25 to 0.45\", \"0.2 to 0.8\", \"0.75 to 1\"]\n",
    "#noms.append(\"0.2 to 0.9\")\n",
    "print(grapheComparaisonProbas(rés, noms))"
   ]
  },
  {
   "cell_type": "code",
   "execution_count": 106,
   "id": "41a0e851",
   "metadata": {},
   "outputs": [],
   "source": [
    "def Yn(n):\n",
    "    somme = 0\n",
    "    for i in range(n):\n",
    "        somme += random.random()\n",
    "    return somme"
   ]
  },
  {
   "cell_type": "code",
   "execution_count": 112,
   "id": "1813355d",
   "metadata": {},
   "outputs": [],
   "source": [
    "def YExpérience(nrep, n):\n",
    "    listeS = []\n",
    "    for i in range(nrep):\n",
    "        listeS.append(Yn(n))\n",
    "    return listeS"
   ]
  },
  {
   "cell_type": "code",
   "execution_count": 138,
   "id": "698c43f7",
   "metadata": {},
   "outputs": [],
   "source": [
    "def grapheYn(nrep, n):\n",
    "    plt.figure()\n",
    "    plt.hist(YExpérience(nrep, n), width = 4)\n",
    "    plt.xlabel(\"Valeur de n\")\n",
    "    plt.ylabel(\"Nombre de résultats\")\n",
    "    plt.show"
   ]
  },
  {
   "cell_type": "code",
   "execution_count": 139,
   "id": "4a4b60f5",
   "metadata": {},
   "outputs": [
    {
     "data": {
      "image/png": "[encoded data removed]",
      "text/plain": [
       "<Figure size 432x288 with 1 Axes>"
      ]
     },
     "metadata": {
      "needs_background": "light"
     },
     "output_type": "display_data"
    }
   ],
   "source": [
    "grapheYn(10000, 1000)"
   ]
  },
  {
   "cell_type": "code",
   "execution_count": null,
   "id": "e6658e67",
   "metadata": {},
   "outputs": [],
   "source": []
  },
  {
   "cell_type": "code",
   "execution_count": null,
   "id": "3e94c846",
   "metadata": {},
   "outputs": [],
   "source": []
  },
  {
   "cell_type": "code",
   "execution_count": null,
   "id": "3aa69d74",
   "metadata": {},
   "outputs": [],
   "source": []
  }
 ],
 "metadata": {
  "kernelspec": {
   "display_name": "Python 3 (ipykernel)",
   "language": "python",
   "name": "python3"
  },
  "language_info": {
   "codemirror_mode": {
    "name": "ipython",
    "version": 3
   },
   "file_extension": ".py",
   "mimetype": "text/x-python",
   "name": "python",
   "nbconvert_exporter": "python",
   "pygments_lexer": "ipython3",
   "version": "3.8.10"
  }
 },
 "nbformat": 4,
 "nbformat_minor": 5
}
