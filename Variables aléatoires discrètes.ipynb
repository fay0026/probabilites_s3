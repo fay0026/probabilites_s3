{
 "cells": [
  {
   "cell_type": "markdown",
   "id": "7da22167",
   "metadata": {},
   "source": [
    "Ci dessous, nous créons une liste de toutes les issues possibles du jeu."
   ]
  },
  {
   "cell_type": "code",
   "execution_count": 1,
   "id": "f048f7ca",
   "metadata": {},
   "outputs": [
    {
     "name": "stdout",
     "output_type": "stream",
     "text": [
      "[2, 3, 4, 5, 6, 7, 3, 4, 5, 6, 7, 8, 4, 5, 6, 7, 8, 9, 5, 6, 7, 8, 9, 10, 6, 7, 8, 9, 10, 11, 7, 8, 9, 10, 11, 12]\n"
     ]
    }
   ],
   "source": [
    "gains = []\n",
    "for de1 in range(1,6+1) :\n",
    "    for de2 in range(1,6+1) :\n",
    "        gains.append(de1+de2)\n",
    "print(gains)"
   ]
  },
  {
   "cell_type": "markdown",
   "id": "b7e1ea33",
   "metadata": {},
   "source": [
    "Ci dessous, nous créons une liste de toutes les issues différentes possibles de l'évènement. Nous comptons ensuite le nombre d'issues égales à l'issue k, que nous convertissons en fraction du total."
   ]
  },
  {
   "cell_type": "code",
   "execution_count": 2,
   "id": "10d0400f",
   "metadata": {},
   "outputs": [
    {
     "name": "stdout",
     "output_type": "stream",
     "text": [
      "[(2, 0.027777777777777776), (3, 0.05555555555555555), (4, 0.08333333333333333), (5, 0.1111111111111111), (6, 0.1388888888888889), (7, 0.16666666666666666), (8, 0.1388888888888889), (9, 0.1111111111111111), (10, 0.08333333333333333), (11, 0.05555555555555555), (12, 0.027777777777777776)]\n"
     ]
    }
   ],
   "source": [
    "import numpy as np\n",
    "omegax = list(range(2,12+1))\n",
    "loi = []\n",
    "for k in omegax:\n",
    "    pk = gains.count(k) / len(gains)\n",
    "    loi.append((k,pk))\n",
    "print(loi)"
   ]
  },
  {
   "cell_type": "markdown",
   "id": "751c4720",
   "metadata": {},
   "source": [
    "Ci dessous, nous réutilisons la liste des probabilités des évènements différents. Nous les additionnons ensuite pour créer une moyenne des issues, ou une espérance de gains au jeu."
   ]
  },
  {
   "cell_type": "code",
   "execution_count": 3,
   "id": "4cac28f1",
   "metadata": {},
   "outputs": [
    {
     "name": "stdout",
     "output_type": "stream",
     "text": [
      "6.999999999999999\n"
     ]
    }
   ],
   "source": [
    "esperance = 0\n",
    "for  (k,pk) in loi:\n",
    "    esperance += k * pk\n",
    "print(esperance)"
   ]
  },
  {
   "cell_type": "markdown",
   "id": "9ffe8767",
   "metadata": {},
   "source": [
    "Ci dessous, pour chaque issue et sa probabilité, on ajoute l'issue au carré multiplié par sa probabilité à un total, que nous soustrayions finalement par l'espérance au carré. Ce qui nous donne un taux de variance parmis les issues possibles."
   ]
  },
  {
   "cell_type": "code",
   "execution_count": 4,
   "id": "3364ceca",
   "metadata": {},
   "outputs": [
    {
     "name": "stdout",
     "output_type": "stream",
     "text": [
      "5.833333333333336\n"
     ]
    }
   ],
   "source": [
    "variance = 0\n",
    "for (k,pk) in loi:\n",
    "    variance = variance + (k ** 2) * pk\n",
    "variance = variance - esperance ** 2\n",
    "print(variance)"
   ]
  },
  {
   "cell_type": "code",
   "execution_count": 5,
   "id": "9b09a8e1",
   "metadata": {},
   "outputs": [],
   "source": [
    "import random\n",
    "\n",
    "def simulation_experience():\n",
    "    return random.choices([1, 2, 3, 4, 5, 6], k=10)"
   ]
  },
  {
   "cell_type": "code",
   "execution_count": 6,
   "id": "0d10d9f4",
   "metadata": {},
   "outputs": [],
   "source": [
    "def fun_X(des):\n",
    "    return sum(des)"
   ]
  },
  {
   "cell_type": "code",
   "execution_count": 7,
   "id": "7728893f",
   "metadata": {},
   "outputs": [],
   "source": [
    "def simulation_repetee(exp, X, nrep):\n",
    "    return [X(exp()) for _ in range(nrep)]"
   ]
  },
  {
   "cell_type": "code",
   "execution_count": 8,
   "id": "50610193",
   "metadata": {},
   "outputs": [],
   "source": [
    "import random\n",
    "import numpy"
   ]
  },
  {
   "cell_type": "code",
   "execution_count": 9,
   "id": "ce1d96a4",
   "metadata": {},
   "outputs": [],
   "source": [
    "def estimation_loi(valeurs_obtenues, valeurs_possibles):\n",
    "  # Ensemble des valeurs différentes possibles\n",
    "  # prises par la variable aléatoire\n",
    "  omegax = valeurs_possibles\n",
    "  # On calcule ensuite le nombre de fois où chaque\n",
    "  # valeur de Omega_X apparait dans l'ensemble des valeurs \n",
    "  # que l'on divise par le nombre de répétitions (i.e. le nombre de valeurs)\n",
    "  res = []\n",
    "  for k in omegax :\n",
    "      res.append((k, valeurs_obtenues.count(k) / len(valeurs_obtenues)))\n",
    "  return res"
   ]
  },
  {
   "cell_type": "code",
   "execution_count": 10,
   "id": "d929bc35",
   "metadata": {},
   "outputs": [
    {
     "name": "stdout",
     "output_type": "stream",
     "text": [
      "[(10, 0.0), (11, 0.0), (12, 0.0), (13, 0.0), (14, 0.0), (15, 0.001), (16, 0.0), (17, 0.0), (18, 0.0), (19, 0.0), (20, 0.0), (21, 0.003), (22, 0.003), (23, 0.009), (24, 0.009), (25, 0.025), (26, 0.023), (27, 0.026), (28, 0.032), (29, 0.047), (30, 0.049), (31, 0.063), (32, 0.052), (33, 0.061), (34, 0.07), (35, 0.067), (36, 0.07), (37, 0.067), (38, 0.068), (39, 0.047), (40, 0.058), (41, 0.036), (42, 0.03), (43, 0.025), (44, 0.023), (45, 0.01), (46, 0.011), (47, 0.006), (48, 0.003), (49, 0.004), (50, 0.001), (51, 0.0), (52, 0.001), (53, 0.0), (54, 0.0), (55, 0.0), (56, 0.0), (57, 0.0), (58, 0.0), (59, 0.0), (60, 0.0)]\n"
     ]
    }
   ],
   "source": [
    "valeurs_simulees = simulation_repetee(simulation_experience, fun_X, 1000)\n",
    "loi = estimation_loi(valeurs_simulees, list(range(10,60+1)))\n",
    "print(loi)"
   ]
  },
  {
   "cell_type": "code",
   "execution_count": 11,
   "id": "af58e9e8",
   "metadata": {},
   "outputs": [],
   "source": [
    "import matplotlib\n",
    "import matplotlib.pyplot as plt"
   ]
  },
  {
   "cell_type": "code",
   "execution_count": 12,
   "id": "d72631e6",
   "metadata": {},
   "outputs": [
    {
     "data": {
      "image/png": "[encoded data removed]",
      "text/plain": [
       "<Figure size 432x288 with 1 Axes>"
      ]
     },
     "metadata": {
      "needs_background": "light"
     },
     "output_type": "display_data"
    }
   ],
   "source": [
    "x = []\n",
    "y = []\n",
    "for (k,pk) in loi :\n",
    "  x.append(k)\n",
    "  y.append(pk)\n",
    "plt.figure()\n",
    "plt.bar(x,height = y, width = 0.2)\n",
    "plt.xlabel(\"k\")\n",
    "plt.ylabel(\"P(X=k)\")\n",
    "plt.show()"
   ]
  },
  {
   "cell_type": "code",
   "execution_count": 13,
   "id": "e65311e7",
   "metadata": {},
   "outputs": [],
   "source": [
    "def estimation_loi(valeurs_obtenues, valeurs_possibles = None):\n",
    "  # On détermine Omega_X\n",
    "  if valeurs_possibles is None :\n",
    "    omegax = numpy.unique(valeurs_obtenues)\n",
    "  else :\n",
    "    omegax = valeurs_possibles\n",
    "  # On calcule ensuite le nombre de fois où chaque\n",
    "  # valeur de Omega_X apparait dans l'ensemble des valeurs \n",
    "  # que l'on divise par le nombre de répétitions (i.e. le nombre de valeurs)\n",
    "  res = []\n",
    "  for k in omegax :\n",
    "      res.append((k, valeurs_obtenues.count(k) / len(valeurs_obtenues)))\n",
    "  return res"
   ]
  },
  {
   "cell_type": "code",
   "execution_count": 14,
   "id": "46a4a9cd",
   "metadata": {},
   "outputs": [
    {
     "name": "stdout",
     "output_type": "stream",
     "text": [
      "[(16, 0.0001), (17, 0.0001), (18, 0.0005), (19, 0.0004), (20, 0.0016), (21, 0.0028), (22, 0.0035), (23, 0.0062), (24, 0.0101), (25, 0.0129), (26, 0.0164), (27, 0.026), (28, 0.0338), (29, 0.0377), (30, 0.0487), (31, 0.0568), (32, 0.0665), (33, 0.0696), (34, 0.0724), (35, 0.0755), (36, 0.0674), (37, 0.0679), (38, 0.0659), (39, 0.0544), (40, 0.0445), (41, 0.0397), (42, 0.0335), (43, 0.0244), (44, 0.0191), (45, 0.0143), (46, 0.0099), (47, 0.0069), (48, 0.0042), (49, 0.0024), (50, 0.0021), (51, 0.0011), (52, 0.0005), (53, 0.0001), (54, 0.0001)]\n"
     ]
    }
   ],
   "source": [
    "valeurs_simulees = simulation_repetee(simulation_experience, fun_X, 10000)\n",
    "loi = estimation_loi(valeurs_simulees)\n",
    "print(loi)"
   ]
  },
  {
   "cell_type": "code",
   "execution_count": 15,
   "id": "58bdccad",
   "metadata": {},
   "outputs": [
    {
     "data": {
      "image/png": "[encoded data removed]",
      "text/plain": [
       "<Figure size 432x288 with 1 Axes>"
      ]
     },
     "metadata": {
      "needs_background": "light"
     },
     "output_type": "display_data"
    }
   ],
   "source": [
    "x = []\n",
    "y = []\n",
    "for (k,pk) in loi :\n",
    "  x.append(k)\n",
    "  y.append(pk)\n",
    "plt.figure()\n",
    "plt.bar(x,height = y, width = 0.2)\n",
    "plt.xlabel(\"k\")\n",
    "plt.ylabel(\"P(X=k)\")\n",
    "plt.show()"
   ]
  },
  {
   "cell_type": "markdown",
   "id": "4590948e",
   "metadata": {},
   "source": [
    "# Exercices"
   ]
  },
  {
   "cell_type": "markdown",
   "id": "acf45d8a",
   "metadata": {},
   "source": [
    "## 5000 simplifié"
   ]
  },
  {
   "cell_type": "markdown",
   "id": "1f50a925",
   "metadata": {},
   "source": [
    "Issues possibles"
   ]
  },
  {
   "cell_type": "code",
   "execution_count": 16,
   "id": "f5130879",
   "metadata": {},
   "outputs": [],
   "source": [
    "def jet5des():\n",
    "    return random.choices([1, 2, 3, 4, 5, 6], k=5)"
   ]
  },
  {
   "cell_type": "markdown",
   "id": "b69e3fe8",
   "metadata": {},
   "source": [
    "convertion en valeurs"
   ]
  },
  {
   "cell_type": "code",
   "execution_count": 17,
   "id": "77f0a189",
   "metadata": {},
   "outputs": [],
   "source": [
    "def valeurs(jet):\n",
    "    val = {\"50\": 0,\n",
    "          \"100\": 0,\n",
    "          \"0\": 0}\n",
    "    for de in jet :\n",
    "        if de == 5 :\n",
    "            val[\"50\"] += 1 \n",
    "        elif de == 1 :\n",
    "            val[\"100\"] += 1\n",
    "        else :\n",
    "            val[\"0\"] += 1\n",
    "    return val"
   ]
  },
  {
   "cell_type": "markdown",
   "id": "e11b2d50",
   "metadata": {},
   "source": [
    "définition d'un jeu"
   ]
  },
  {
   "cell_type": "code",
   "execution_count": 19,
   "id": "8893796d",
   "metadata": {},
   "outputs": [],
   "source": [
    "def jeu():\n",
    "    des = jet5des()\n",
    "    return valeurs(des)"
   ]
  },
  {
   "cell_type": "markdown",
   "id": "5a2dccbf",
   "metadata": {},
   "source": [
    "Expériences répétées"
   ]
  },
  {
   "cell_type": "code",
   "execution_count": 23,
   "id": "69a3c6ee",
   "metadata": {},
   "outputs": [],
   "source": [
    "def experience5000(nrep):\n",
    "    return [valeurs(jet5des()) for _ in range(nrep)]"
   ]
  },
  {
   "cell_type": "markdown",
   "id": "b1710830",
   "metadata": {},
   "source": [
    "loi de probabilité"
   ]
  },
  {
   "cell_type": "code",
   "execution_count": 24,
   "id": "aed58720",
   "metadata": {},
   "outputs": [],
   "source": [
    "def estimation_loi(valeurs_obtenues, valeurs_possibles = None):\n",
    "    # On détermine Omega_X\n",
    "    if valeurs_possibles is None :\n",
    "        omegax = numpy.unique(valeurs_obtenues)\n",
    "    else :\n",
    "        omegax = valeurs_possibles\n",
    "        # On calcule ensuite le nombre de fois où chaque\n",
    "        # valeur de Omega_X apparait dans l'ensemble des valeurs \n",
    "        # que l'on divise par le nombre de répétitions (i.e. le nombre de valeurs)\n",
    "        res = []\n",
    "        for k in omegax :\n",
    "            res.append((k, valeurs_obtenues.count(k) / len(valeurs_obtenues)))\n",
    "        return res"
   ]
  },
  {
   "cell_type": "code",
   "execution_count": 25,
   "id": "169546a2",
   "metadata": {},
   "outputs": [
    {
     "name": "stdout",
     "output_type": "stream",
     "text": [
      "[(0, 0.0), (50, 0.0), (100, 0.0), (150, 0.0), (200, 0.0), (250, 0.0), (300, 0.0), (350, 0.0), (400, 0.0), (450, 0.0)]\n"
     ]
    }
   ],
   "source": [
    "résultats = experience5000(10000)\n",
    "loi = estimation_loi(résultats, list(range(0,500+50,50)))\n",
    "print(loi)"
   ]
  },
  {
   "cell_type": "code",
   "execution_count": null,
   "id": "039a1e4f",
   "metadata": {},
   "outputs": [],
   "source": []
  },
  {
   "cell_type": "code",
   "execution_count": null,
   "id": "256fa058",
   "metadata": {},
   "outputs": [],
   "source": []
  },
  {
   "cell_type": "code",
   "execution_count": null,
   "id": "c31a2412",
   "metadata": {},
   "outputs": [],
   "source": []
  },
  {
   "cell_type": "code",
   "execution_count": null,
   "id": "da33e597",
   "metadata": {},
   "outputs": [],
   "source": []
  },
  {
   "cell_type": "code",
   "execution_count": null,
   "id": "f01a5d3c",
   "metadata": {},
   "outputs": [],
   "source": []
  },
  {
   "cell_type": "code",
   "execution_count": null,
   "id": "c86f668b",
   "metadata": {},
   "outputs": [],
   "source": []
  },
  {
   "cell_type": "code",
   "execution_count": null,
   "id": "2a68a16a",
   "metadata": {},
   "outputs": [],
   "source": []
  },
  {
   "cell_type": "code",
   "execution_count": null,
   "id": "9dd4d208",
   "metadata": {},
   "outputs": [],
   "source": []
  },
  {
   "cell_type": "code",
   "execution_count": null,
   "id": "3ff04e7f",
   "metadata": {},
   "outputs": [],
   "source": []
  },
  {
   "cell_type": "code",
   "execution_count": null,
   "id": "9641b4da",
   "metadata": {},
   "outputs": [],
   "source": []
  },
  {
   "cell_type": "code",
   "execution_count": null,
   "id": "3407cd6d",
   "metadata": {},
   "outputs": [],
   "source": []
  },
  {
   "cell_type": "code",
   "execution_count": null,
   "id": "8c795e64",
   "metadata": {},
   "outputs": [],
   "source": [
    "\n"
   ]
  }
 ],
 "metadata": {
  "kernelspec": {
   "display_name": "Python 3 (ipykernel)",
   "language": "python",
   "name": "python3"
  },
  "language_info": {
   "codemirror_mode": {
    "name": "ipython",
    "version": 3
   },
   "file_extension": ".py",
   "mimetype": "text/x-python",
   "name": "python",
   "nbconvert_exporter": "python",
   "pygments_lexer": "ipython3",
   "version": "3.8.10"
  }
 },
 "nbformat": 4,
 "nbformat_minor": 5
}
