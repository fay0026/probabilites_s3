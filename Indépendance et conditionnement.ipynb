{
 "cells": [
  {
   "cell_type": "code",
   "execution_count": 1,
   "id": "7812bd28",
   "metadata": {},
   "outputs": [],
   "source": [
    "import random"
   ]
  },
  {
   "cell_type": "code",
   "execution_count": 2,
   "id": "ec9a6c2e",
   "metadata": {},
   "outputs": [],
   "source": [
    "def urne12(n):\n",
    "    ret = False\n",
    "    cptA = 0\n",
    "    cptB = 0\n",
    "    cptAB = 0\n",
    "    for i in range(n):\n",
    "        boule = random.choice([1,2,3,4,5,6,7,8,9,10,11,12])\n",
    "        if boule%2 == 0:\n",
    "            cptA += 1\n",
    "            if boule%3 == 0:\n",
    "                cptB += 1\n",
    "                cptAB += 1\n",
    "        elif boule%3 == 0:\n",
    "            cptB += 1\n",
    "    if (cptA/n) * (cptB/n) == cptAB/n :\n",
    "        ret = True\n",
    "    print(cptA, cptB, cptAB)\n",
    "    return ret"
   ]
  },
  {
   "cell_type": "code",
   "execution_count": 3,
   "id": "7a3476cc",
   "metadata": {},
   "outputs": [
    {
     "name": "stdout",
     "output_type": "stream",
     "text": [
      "49 36 18\n",
      "False\n"
     ]
    }
   ],
   "source": [
    "print(urne12(100))"
   ]
  },
  {
   "cell_type": "code",
   "execution_count": 4,
   "id": "3085db70",
   "metadata": {},
   "outputs": [],
   "source": [
    "def urne13(n):\n",
    "    ret = False\n",
    "    cptA = 0\n",
    "    cptB = 0\n",
    "    cptAB = 0\n",
    "    for i in range(n):\n",
    "        boule = random.choice([1,2,3,4,5,6,7,8,9,10,11,12,13])\n",
    "        if boule%2 == 0:\n",
    "            cptA += 1\n",
    "            if boule%3 == 0:\n",
    "                cptB += 1\n",
    "                cptAB += 1\n",
    "        elif boule%3 == 0:\n",
    "            cptB += 1\n",
    "    if (cptA/n) * (cptB/n) == cptAB/n :\n",
    "        ret = True\n",
    "    print(cptA, cptB, cptAB)\n",
    "    return ret"
   ]
  },
  {
   "cell_type": "code",
   "execution_count": 5,
   "id": "c50acfa7",
   "metadata": {},
   "outputs": [
    {
     "name": "stdout",
     "output_type": "stream",
     "text": [
      "41 32 17\n",
      "False\n"
     ]
    }
   ],
   "source": [
    "print(urne13(100))"
   ]
  },
  {
   "cell_type": "code",
   "execution_count": 51,
   "id": "41d148db",
   "metadata": {},
   "outputs": [],
   "source": [
    "def probA(nbsim) :\n",
    "    total = 0\n",
    "    for i in range(nbsim):\n",
    "        cpt6 = 0\n",
    "        des = random.choices([1,2,3,4,5,6], k=4)\n",
    "        for de in des :\n",
    "            if de == 6 :\n",
    "                cpt6 += 1\n",
    "        if cpt6 > 1 :\n",
    "            total += 1\n",
    "    return total/nbsim"
   ]
  },
  {
   "cell_type": "code",
   "execution_count": 58,
   "id": "f13b7022",
   "metadata": {},
   "outputs": [],
   "source": [
    "def probAsachantB(nbsim) :\n",
    "    totalB = 0\n",
    "    totalAB = 0\n",
    "    for i in range(nbsim):\n",
    "        cpt6 = 0\n",
    "        des = random.choices([1,2,3,4,5,6], k=4)\n",
    "        if des[0] + des[1] + des[2] + des[3] == 18 :\n",
    "            totalB += 1\n",
    "            for de in des :\n",
    "                if de == 6 :\n",
    "                    cpt6 += 1\n",
    "            if cpt6 > 1 :\n",
    "                totalAB += 1\n",
    "    return totalAB/totalB"
   ]
  },
  {
   "cell_type": "code",
   "execution_count": 59,
   "id": "16660024",
   "metadata": {},
   "outputs": [
    {
     "name": "stdout",
     "output_type": "stream",
     "text": [
      "0.13126\n",
      "0.37459599224305107\n"
     ]
    }
   ],
   "source": [
    "print(probA(100000))\n",
    "print(probAsachantB(100000))"
   ]
  },
  {
   "cell_type": "code",
   "execution_count": 86,
   "id": "39308ddc",
   "metadata": {},
   "outputs": [],
   "source": [
    "def aliBabal44(nbsim) :\n",
    "    cptLived = 0\n",
    "    for i in range(nbsim) :\n",
    "        urne1 = [1,1,1,1]\n",
    "        urne2 = [0,0,0,0]\n",
    "        urneChoisie = random.choices([1,2], k=1)\n",
    "        if urneChoisie[0] == 1 :\n",
    "            bouleChoisie = random.sample(urne1, 1)\n",
    "        else :\n",
    "            bouleChoisie = random.sample(urne2, 1)\n",
    "        if bouleChoisie[0] == 0 :\n",
    "            dead = True\n",
    "        else :\n",
    "            dead = False\n",
    "        if dead == False :\n",
    "            cptLived += 1\n",
    "    return cptLived/nbsim"
   ]
  },
  {
   "cell_type": "code",
   "execution_count": 87,
   "id": "319f430e",
   "metadata": {},
   "outputs": [],
   "source": [
    "def aliBabal22(nbsim) :\n",
    "    cptLived = 0\n",
    "    for i in range(nbsim) :\n",
    "        urne1 = [1,1,0,0]\n",
    "        urne2 = [0,0,1,1]\n",
    "        urneChoisie = random.choices([1,2], k=1)\n",
    "        if urneChoisie[0] == 1 :\n",
    "            bouleChoisie = random.sample(urne1, 1)\n",
    "        else :\n",
    "            bouleChoisie = random.sample(urne2, 1)\n",
    "        if bouleChoisie[0] == 0 :\n",
    "            dead = True\n",
    "        else :\n",
    "            dead = False\n",
    "        if dead == False :\n",
    "            cptLived += 1\n",
    "    return cptLived/nbsim"
   ]
  },
  {
   "cell_type": "code",
   "execution_count": 88,
   "id": "64e75dce",
   "metadata": {},
   "outputs": [],
   "source": [
    "def aliBabal17(nbsim) :\n",
    "    cptLived = 0\n",
    "    for i in range(nbsim) :\n",
    "        urne1 = [1,1,1,0,0,0,0]\n",
    "        urne2 = [1]\n",
    "        urneChoisie = random.choices([1,2], k=1)\n",
    "        if urneChoisie[0] == 1 :\n",
    "            bouleChoisie = random.sample(urne1, 1)\n",
    "        else :\n",
    "            bouleChoisie = random.sample(urne2, 1)\n",
    "        if bouleChoisie[0] == 0 :\n",
    "            dead = True\n",
    "        else :\n",
    "            dead = False\n",
    "        if dead == False :\n",
    "            cptLived += 1\n",
    "    return cptLived/nbsim"
   ]
  },
  {
   "cell_type": "code",
   "execution_count": 111,
   "id": "9e9df854",
   "metadata": {},
   "outputs": [
    {
     "name": "stdout",
     "output_type": "stream",
     "text": [
      "0.5003\n",
      "0.49897\n",
      "0.71687\n"
     ]
    }
   ],
   "source": [
    "print(aliBabal44(100000))\n",
    "print(aliBabal22(100000))\n",
    "print(aliBabal17(100000))"
   ]
  },
  {
   "cell_type": "code",
   "execution_count": 119,
   "id": "9e9753af",
   "metadata": {},
   "outputs": [
    {
     "name": "stdout",
     "output_type": "stream",
     "text": [
      "['a' 'a' 'b' 'a' 'b' 'a' 'a' 'a' 'b' 'a']\n"
     ]
    }
   ],
   "source": [
    "import numpy as np\n",
    "tirage = np.random.choice(['a','b'], 10, replace = True, p=[0.75,0.25])\n",
    "print(tirage)"
   ]
  },
  {
   "cell_type": "code",
   "execution_count": 130,
   "id": "a912d76e",
   "metadata": {},
   "outputs": [],
   "source": [
    "def proba_malade(nbsim) :\n",
    "    Malades = 0\n",
    "    for i in range(nbsim) :\n",
    "        infection = np.random.choice(['pos','neg'], 1, p=[0.001,0.999])\n",
    "        if infection[0] == 'pos' :\n",
    "            infection = np.random.choice(['Tpos', 'Fpos'], 1, p=[0.90, 0.10])\n",
    "            if infection[0] == 'Tpos' :\n",
    "                Malades += 1\n",
    "        else :\n",
    "            infection = np.random.choice(['Tneg', 'Fneg'], 1, p=[0.97, 0.03])\n",
    "            if infection[0] == 'Fneg' :\n",
    "                Malades += 1\n",
    "    return Malades / nbsim"
   ]
  },
  {
   "cell_type": "code",
   "execution_count": 131,
   "id": "9b2b75ff",
   "metadata": {},
   "outputs": [
    {
     "name": "stdout",
     "output_type": "stream",
     "text": [
      "0.03175\n"
     ]
    }
   ],
   "source": [
    "print(proba_malade(100000))"
   ]
  },
  {
   "cell_type": "code",
   "execution_count": null,
   "id": "20a15eb8",
   "metadata": {},
   "outputs": [],
   "source": []
  },
  {
   "cell_type": "code",
   "execution_count": null,
   "id": "135316aa",
   "metadata": {},
   "outputs": [],
   "source": []
  },
  {
   "cell_type": "code",
   "execution_count": null,
   "id": "546a6975",
   "metadata": {},
   "outputs": [],
   "source": []
  },
  {
   "cell_type": "code",
   "execution_count": null,
   "id": "bdd80d61",
   "metadata": {},
   "outputs": [],
   "source": []
  },
  {
   "cell_type": "code",
   "execution_count": null,
   "id": "eccc78c4",
   "metadata": {},
   "outputs": [],
   "source": []
  },
  {
   "cell_type": "code",
   "execution_count": null,
   "id": "3c4518fd",
   "metadata": {},
   "outputs": [],
   "source": []
  }
 ],
 "metadata": {
  "kernelspec": {
   "display_name": "Python 3 (ipykernel)",
   "language": "python",
   "name": "python3"
  },
  "language_info": {
   "codemirror_mode": {
    "name": "ipython",
    "version": 3
   },
   "file_extension": ".py",
   "mimetype": "text/x-python",
   "name": "python",
   "nbconvert_exporter": "python",
   "pygments_lexer": "ipython3",
   "version": "3.8.10"
  }
 },
 "nbformat": 4,
 "nbformat_minor": 5
}
