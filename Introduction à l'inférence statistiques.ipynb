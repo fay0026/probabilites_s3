{
 "cells": [
  {
   "cell_type": "markdown",
   "id": "790342a1",
   "metadata": {},
   "source": [
    "# Introduction à l'inférence statistiques"
   ]
  },
  {
   "cell_type": "markdown",
   "id": "711be30e",
   "metadata": {},
   "source": [
    "## Introduction : modélisation"
   ]
  },
  {
   "cell_type": "code",
   "execution_count": 1,
   "id": "3489dfe5",
   "metadata": {},
   "outputs": [],
   "source": [
    "import numpy as np"
   ]
  },
  {
   "cell_type": "code",
   "execution_count": 2,
   "id": "741656a1",
   "metadata": {},
   "outputs": [],
   "source": [
    "def genPop(N, pDaenerys):\n",
    "    #return np.random.choice([Daenerys, Cersei], N, p=[pDaenerys, 1-pDarnerys])\n",
    "    return list(np.random.choice([1,0], N, replace=True, p=[pDaenerys, 1-pDaenerys]))"
   ]
  },
  {
   "cell_type": "code",
   "execution_count": 4,
   "id": "ff1bda8a",
   "metadata": {},
   "outputs": [
    {
     "name": "stdout",
     "output_type": "stream",
     "text": [
      "[1, 0, 0, 0, 1, 0, 0, 0, 0, 0]\n",
      "0.4403425\n",
      "0.5596575\n"
     ]
    }
   ],
   "source": [
    "# Création d'une population de 10 réponses\n",
    "print(genPop(10,0.25))\n",
    "# Creation d'une population de 400 000 réponses (ajusté à cause des performances machine)\n",
    "population = genPop(400000,0.56)\n",
    "# Vérification des proportions\n",
    "print(population.count(0)/len(population))\n",
    "print(population.count(1)/len(population))"
   ]
  },
  {
   "cell_type": "code",
   "execution_count": 7,
   "id": "f83da7b9",
   "metadata": {},
   "outputs": [],
   "source": [
    "def makeSurvey(n, pop):\n",
    "    Selected = []\n",
    "    for i in range(n):\n",
    "        Selected.append(pop[np.random.randint(0, len(pop))])\n",
    "    return Selected"
   ]
  },
  {
   "cell_type": "code",
   "execution_count": 11,
   "id": "d8d822a8",
   "metadata": {},
   "outputs": [],
   "source": [
    "def makeSurveyOpti(n, pop):\n",
    "    return [pop[np.random.randint(0, len(pop))] for _ in range(n)]"
   ]
  },
  {
   "cell_type": "code",
   "execution_count": 12,
   "id": "25a9f016",
   "metadata": {},
   "outputs": [
    {
     "name": "stdout",
     "output_type": "stream",
     "text": [
      "[1, 1, 1, 1, 1, 0, 0, 1, 1, 0, 0, 1, 0, 0, 1, 0, 0, 1, 0, 1, 1, 0, 0, 1, 0, 0, 0, 1, 0, 0, 0, 1, 0, 0, 0, 1, 0, 1, 0, 1, 1, 1, 0, 1, 1, 1, 0, 0, 0, 0, 0, 1, 1, 0, 1, 0, 1, 0, 1, 1, 1, 0, 0, 1, 0, 0, 0, 0, 1, 1, 1, 1, 1, 1, 1, 1, 0, 1, 0, 0, 1, 0, 1, 0, 1, 0, 1, 0, 0, 1, 1, 0, 1, 0, 0, 0, 0, 1, 0, 1, 0, 1, 0, 0, 0, 1, 0, 1, 1, 1, 1, 1, 1, 1, 1, 0, 0, 1, 1, 1, 0, 0, 0, 1, 0, 0, 0, 1, 0, 0, 1, 1, 0, 1, 1, 1, 1, 1, 1, 1, 0, 0, 0, 1, 1, 1, 1, 0, 0, 0, 1, 1, 1, 1, 1, 1, 1, 1, 1, 1, 0, 1, 0, 0, 0, 0, 0, 0, 1, 1, 1, 1, 0, 0, 1, 1, 1, 0, 0, 0, 1, 0, 1, 1, 1, 0, 1, 0, 1, 0, 1, 0, 0, 1, 1, 1, 1, 0, 0, 1, 0, 1, 0, 1, 1, 0, 1, 1, 0, 1, 0, 0, 1, 1, 0, 0, 0, 1, 1, 0, 0, 0, 0, 1, 1, 0, 1, 1, 1, 0, 1, 0, 1, 1, 0, 1, 0, 0, 0, 1, 1, 1, 1, 1, 1, 0, 1, 0, 0, 1, 1, 1, 0, 1, 0, 1, 0, 0, 0, 0, 0, 0, 0, 0, 1, 0, 1, 0, 1, 0, 1, 0, 0, 0, 0, 0, 1, 0, 0, 0, 0, 1, 0, 1, 0, 1, 1, 0, 1, 1, 1, 0, 0, 0, 1, 0, 0, 1, 1, 1, 1, 1, 0, 1, 1, 1, 0, 1, 1, 1, 1, 1, 0, 0, 1, 1, 1, 1, 1, 1, 1, 1, 1, 1, 1, 1, 1, 1, 0, 0, 1, 1, 0, 0, 0, 0, 0, 0, 1, 0, 0, 0, 0, 1, 1, 1, 0, 1, 0, 1, 1, 0, 1, 1, 1, 1, 1, 1, 1, 1, 0, 1, 1, 0, 1, 0, 0, 0, 0, 0, 1, 1, 1, 0, 0, 0, 1, 0, 0, 1, 1, 0, 0, 1, 1, 1, 1, 1, 1, 1, 1, 1, 0, 1, 1, 0, 1, 1, 0, 0, 1, 1, 0, 0, 0, 1, 1, 1, 1, 0, 0, 0, 0, 1, 1, 1, 1, 1, 0, 0, 0, 1, 1, 0, 0, 0, 0, 0, 1, 1, 1, 0, 0, 1, 0, 1, 1, 0, 1, 0, 0, 1, 0, 1, 1, 1, 1, 1, 0, 1, 0, 1, 0, 0, 1, 1, 1, 1, 1, 1, 1, 1, 1, 0, 1, 1, 0, 1, 1, 0, 1, 0, 0, 0, 0, 1, 0, 0, 0, 0, 0, 1, 0, 0, 1, 1, 1, 0, 1, 0, 0, 0, 0, 1, 0, 0, 1, 1, 1, 0, 0, 1, 1, 1, 0, 1, 0, 1, 1, 1, 1, 0, 1, 1, 0, 0, 0, 0, 1, 0, 1, 1, 0, 0, 1, 1, 0, 1, 0, 0, 1, 1, 1, 0, 1, 0, 1, 1, 1, 0, 1, 1, 1, 0, 1, 0, 1, 1, 0, 0, 1, 0, 0, 0, 1, 0, 0, 0, 0, 1, 1, 1, 1, 0, 0, 1, 1, 0, 1, 1, 0, 1, 1, 0, 1, 0, 1, 0, 0, 1, 0, 0, 0, 0, 0, 0, 1, 0, 0, 0, 1, 1, 1, 0, 1, 1, 0, 0, 0, 1, 1, 0, 1, 0, 1, 0, 1, 0, 0, 1, 1, 0, 1, 0, 0, 0, 0, 1, 1, 1, 0, 1, 0, 0, 0, 0, 1, 0, 1, 0, 1, 0, 1, 0, 1, 0, 0, 1, 1, 1, 1, 1, 0, 1, 0, 1, 1, 1, 0, 0, 1, 1, 1, 0, 0, 0, 1, 1, 1, 1, 0, 0, 1, 1, 0, 1, 0, 1, 1, 1, 0, 1, 0, 1, 0, 1, 0, 0, 0, 1, 0, 0, 0, 0, 0, 0, 1, 1, 1, 1, 1, 1, 1, 1, 1, 1, 0, 0, 1, 1, 0, 1, 0, 0, 0, 1, 0, 1, 0, 1, 0, 1, 0, 1, 1, 0, 1, 0, 0, 0, 1, 1, 1, 1, 0, 1, 0, 1, 0, 0, 1, 1, 1, 1, 1, 1, 1, 1, 0, 1, 1, 1, 1, 0, 1, 1, 0, 0, 1, 0, 0, 1, 1, 1, 0, 0, 0, 1, 1, 1, 1, 0, 1, 1, 1, 1, 1, 1, 1, 1, 0, 1, 1, 0, 0, 0, 1, 1, 1, 1, 0, 1, 1, 1, 0, 0, 1, 0, 1, 0, 1, 1, 1, 0, 1, 1, 0, 0, 1, 1, 0, 1, 1, 0, 1, 0, 0, 1, 1, 1, 0, 1, 1, 0, 1, 0, 1, 1, 0, 1, 0, 0, 0, 0, 1, 1, 1, 0, 1, 0, 0, 1, 1, 1, 1, 1, 1, 1, 0, 1, 1, 1, 0, 0, 1, 0, 1, 1, 0, 0, 1, 0, 0, 0, 1, 0, 0, 1, 1, 1, 1, 0, 0, 0, 1, 1, 1, 1, 0, 1, 1, 1, 1, 1, 1, 0, 1, 1, 1, 0, 1, 1, 1, 0, 1, 1, 1, 1, 1, 0, 1, 0, 1, 0, 1, 1, 1, 1, 1, 1, 0, 0, 1, 1, 1, 0, 1, 1, 1, 0, 0, 1, 1, 0, 1, 1, 1, 1, 1, 1, 1, 0, 0, 0, 1, 0, 1, 0, 0, 1, 0, 0, 0, 1, 1, 1, 0, 1, 0, 0, 0, 1, 1, 1, 0, 0, 0, 1, 0, 1, 1, 0, 1, 0, 1, 1, 1, 1, 1, 0, 1, 0, 1, 1, 1, 1, 0, 0, 1, 0, 0, 1, 1, 1, 0, 1, 0, 1, 1, 1, 0, 1, 0, 1, 1, 1, 0, 0, 1, 1, 0, 0, 0, 1, 0, 0, 0, 0, 1, 0, 0, 1, 0, 0, 0, 1, 1, 1, 1, 1, 0, 0, 1, 1, 1, 0, 1, 1, 0, 1, 1, 0, 0, 1, 0, 1, 1, 1, 1, 1, 1, 0, 1, 0, 1, 1, 0, 1, 0, 0, 1, 1, 1, 0, 0, 1, 1, 1, 0, 1, 1, 0, 1, 0, 0, 1, 1, 1, 1, 1, 1, 1, 1, 1, 1, 0, 1, 1, 1, 1, 0, 1, 1, 0, 1, 0, 1, 0, 1, 1, 1, 0, 0, 0, 0, 1, 0, 1, 0, 0, 1, 1, 1, 1, 1, 0, 1, 0, 1, 1, 1, 1, 0, 0, 1, 0, 1, 0, 0, 1, 0, 0, 0, 0, 0, 1, 1, 1, 1, 0, 1, 1, 0, 0, 0, 1, 1, 1, 1, 1, 0, 0, 0, 1, 0, 1, 0, 0, 0, 1, 1, 0, 1, 1, 1, 0, 1, 0, 0, 0, 0, 0, 1, 1, 1, 0, 1, 1, 0, 0, 0, 0, 0, 0, 1, 1, 0, 1, 0, 1, 0, 1, 1, 1, 1, 1, 0, 1, 1, 0, 1, 1, 1, 1, 0, 0, 1, 1, 0, 0, 1, 0, 1, 1, 0, 0, 0, 0, 0, 1]\n"
     ]
    }
   ],
   "source": [
    "pool = makeSurveyOpti(1200,population)\n",
    "print(pool)"
   ]
  },
  {
   "cell_type": "markdown",
   "id": "b863e5c9",
   "metadata": {},
   "source": []
  },
  {
   "cell_type": "markdown",
   "id": "db872265",
   "metadata": {},
   "source": [
    "## Estimation, intervalles de confiance"
   ]
  },
  {
   "cell_type": "code",
   "execution_count": 17,
   "id": "f52a0f97",
   "metadata": {},
   "outputs": [],
   "source": [
    "def simSurvey(nrep, population, n):\n",
    "    Sim = []\n",
    "    for r in range(nrep):\n",
    "        échantillon = makeSurveyOpti(n, population)\n",
    "        proba = échantillon.count(1)/n\n",
    "        Sim.append(proba)\n",
    "    return Sim"
   ]
  },
  {
   "cell_type": "code",
   "execution_count": 25,
   "id": "74aa151b",
   "metadata": {},
   "outputs": [],
   "source": [
    "def simSurveyOpti(nrep, population, n):\n",
    "    return [makeSurveyOpti(n, population).count(1)/n for _ in range(nrep)]"
   ]
  },
  {
   "cell_type": "code",
   "execution_count": 26,
   "id": "e33ba605",
   "metadata": {},
   "outputs": [
    {
     "name": "stdout",
     "output_type": "stream",
     "text": [
      "[0.5683333333333334, 0.5625, 0.5616666666666666, 0.5708333333333333, 0.555, 0.5716666666666667, 0.5383333333333333, 0.56, 0.56, 0.525]\n"
     ]
    }
   ],
   "source": [
    "print(simSurveyOpti(10,population,1200))"
   ]
  },
  {
   "cell_type": "code",
   "execution_count": 29,
   "id": "b4083e3e",
   "metadata": {},
   "outputs": [
    {
     "name": "stdout",
     "output_type": "stream",
     "text": [
      "0.5258333333333334\n"
     ]
    }
   ],
   "source": [
    "print(np.percentile(simSurveyOpti(1000,population,1200), 0.95))"
   ]
  },
  {
   "cell_type": "code",
   "execution_count": 31,
   "id": "001a7a95",
   "metadata": {},
   "outputs": [],
   "source": [
    "def Compte(simulation, valeur):\n",
    "    compte = 0\n",
    "    for i in range(len(simulation)):\n",
    "        if simulation[i] >= valeur :\n",
    "            compte += 1\n",
    "    return compte/len(simulation)"
   ]
  },
  {
   "cell_type": "code",
   "execution_count": 36,
   "id": "48e1d67a",
   "metadata": {},
   "outputs": [
    {
     "name": "stdout",
     "output_type": "stream",
     "text": [
      "0.481\n"
     ]
    }
   ],
   "source": [
    "print(Compte(simSurveyOpti(1000, population, 1200), 0.56))"
   ]
  },
  {
   "cell_type": "code",
   "execution_count": null,
   "id": "89b1c3eb",
   "metadata": {},
   "outputs": [],
   "source": []
  }
 ],
 "metadata": {
  "kernelspec": {
   "display_name": "Python 3 (ipykernel)",
   "language": "python",
   "name": "python3"
  },
  "language_info": {
   "codemirror_mode": {
    "name": "ipython",
    "version": 3
   },
   "file_extension": ".py",
   "mimetype": "text/x-python",
   "name": "python",
   "nbconvert_exporter": "python",
   "pygments_lexer": "ipython3",
   "version": "3.8.10"
  }
 },
 "nbformat": 4,
 "nbformat_minor": 5
}
